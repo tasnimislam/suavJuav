{
  "nbformat": 4,
  "nbformat_minor": 0,
  "metadata": {
    "colab": {
      "name": "fedrec_impo_lstm.ipynb",
      "provenance": [],
      "collapsed_sections": []
    },
    "kernelspec": {
      "name": "python3",
      "display_name": "Python 3"
    },
    "language_info": {
      "name": "python"
    },
    "accelerator": "GPU"
  },
  "cells": [
    {
      "cell_type": "code",
      "metadata": {
        "colab": {
          "base_uri": "https://localhost:8080/"
        },
        "id": "6swepXoTiJad",
        "outputId": "62f13b5a-81a2-4df6-d442-b51c1b162cdf"
      },
      "source": [
        "from google.colab import drive\n",
        "drive.mount('/content/drive')"
      ],
      "execution_count": 1,
      "outputs": [
        {
          "output_type": "stream",
          "text": [
            "Mounted at /content/drive\n"
          ],
          "name": "stdout"
        }
      ]
    },
    {
      "cell_type": "code",
      "metadata": {
        "colab": {
          "base_uri": "https://localhost:8080/"
        },
        "id": "4X9CEvVjpjBT",
        "outputId": "1cb3a25b-e78b-492e-c8d3-fbf2f3be921e"
      },
      "source": [
        "!pip install tensorflow-federated"
      ],
      "execution_count": 2,
      "outputs": [
        {
          "output_type": "stream",
          "text": [
            "Collecting tensorflow-federated\n",
            "  Downloading tensorflow_federated-0.19.0-py2.py3-none-any.whl (602 kB)\n",
            "\u001b[?25l\r\u001b[K     |▌                               | 10 kB 33.5 MB/s eta 0:00:01\r\u001b[K     |█                               | 20 kB 19.7 MB/s eta 0:00:01\r\u001b[K     |█▋                              | 30 kB 16.5 MB/s eta 0:00:01\r\u001b[K     |██▏                             | 40 kB 15.3 MB/s eta 0:00:01\r\u001b[K     |██▊                             | 51 kB 7.2 MB/s eta 0:00:01\r\u001b[K     |███▎                            | 61 kB 8.3 MB/s eta 0:00:01\r\u001b[K     |███▉                            | 71 kB 7.8 MB/s eta 0:00:01\r\u001b[K     |████▍                           | 81 kB 8.7 MB/s eta 0:00:01\r\u001b[K     |█████                           | 92 kB 9.2 MB/s eta 0:00:01\r\u001b[K     |█████▍                          | 102 kB 7.6 MB/s eta 0:00:01\r\u001b[K     |██████                          | 112 kB 7.6 MB/s eta 0:00:01\r\u001b[K     |██████▌                         | 122 kB 7.6 MB/s eta 0:00:01\r\u001b[K     |███████                         | 133 kB 7.6 MB/s eta 0:00:01\r\u001b[K     |███████▋                        | 143 kB 7.6 MB/s eta 0:00:01\r\u001b[K     |████████▏                       | 153 kB 7.6 MB/s eta 0:00:01\r\u001b[K     |████████▊                       | 163 kB 7.6 MB/s eta 0:00:01\r\u001b[K     |█████████▎                      | 174 kB 7.6 MB/s eta 0:00:01\r\u001b[K     |█████████▉                      | 184 kB 7.6 MB/s eta 0:00:01\r\u001b[K     |██████████▍                     | 194 kB 7.6 MB/s eta 0:00:01\r\u001b[K     |██████████▉                     | 204 kB 7.6 MB/s eta 0:00:01\r\u001b[K     |███████████▍                    | 215 kB 7.6 MB/s eta 0:00:01\r\u001b[K     |████████████                    | 225 kB 7.6 MB/s eta 0:00:01\r\u001b[K     |████████████▌                   | 235 kB 7.6 MB/s eta 0:00:01\r\u001b[K     |█████████████                   | 245 kB 7.6 MB/s eta 0:00:01\r\u001b[K     |█████████████▋                  | 256 kB 7.6 MB/s eta 0:00:01\r\u001b[K     |██████████████▏                 | 266 kB 7.6 MB/s eta 0:00:01\r\u001b[K     |██████████████▊                 | 276 kB 7.6 MB/s eta 0:00:01\r\u001b[K     |███████████████▎                | 286 kB 7.6 MB/s eta 0:00:01\r\u001b[K     |███████████████▊                | 296 kB 7.6 MB/s eta 0:00:01\r\u001b[K     |████████████████▎               | 307 kB 7.6 MB/s eta 0:00:01\r\u001b[K     |████████████████▉               | 317 kB 7.6 MB/s eta 0:00:01\r\u001b[K     |█████████████████▍              | 327 kB 7.6 MB/s eta 0:00:01\r\u001b[K     |██████████████████              | 337 kB 7.6 MB/s eta 0:00:01\r\u001b[K     |██████████████████▌             | 348 kB 7.6 MB/s eta 0:00:01\r\u001b[K     |███████████████████             | 358 kB 7.6 MB/s eta 0:00:01\r\u001b[K     |███████████████████▋            | 368 kB 7.6 MB/s eta 0:00:01\r\u001b[K     |████████████████████▏           | 378 kB 7.6 MB/s eta 0:00:01\r\u001b[K     |████████████████████▊           | 389 kB 7.6 MB/s eta 0:00:01\r\u001b[K     |█████████████████████▏          | 399 kB 7.6 MB/s eta 0:00:01\r\u001b[K     |█████████████████████▊          | 409 kB 7.6 MB/s eta 0:00:01\r\u001b[K     |██████████████████████▎         | 419 kB 7.6 MB/s eta 0:00:01\r\u001b[K     |██████████████████████▉         | 430 kB 7.6 MB/s eta 0:00:01\r\u001b[K     |███████████████████████▍        | 440 kB 7.6 MB/s eta 0:00:01\r\u001b[K     |████████████████████████        | 450 kB 7.6 MB/s eta 0:00:01\r\u001b[K     |████████████████████████▌       | 460 kB 7.6 MB/s eta 0:00:01\r\u001b[K     |█████████████████████████       | 471 kB 7.6 MB/s eta 0:00:01\r\u001b[K     |█████████████████████████▋      | 481 kB 7.6 MB/s eta 0:00:01\r\u001b[K     |██████████████████████████▏     | 491 kB 7.6 MB/s eta 0:00:01\r\u001b[K     |██████████████████████████▋     | 501 kB 7.6 MB/s eta 0:00:01\r\u001b[K     |███████████████████████████▏    | 512 kB 7.6 MB/s eta 0:00:01\r\u001b[K     |███████████████████████████▊    | 522 kB 7.6 MB/s eta 0:00:01\r\u001b[K     |████████████████████████████▎   | 532 kB 7.6 MB/s eta 0:00:01\r\u001b[K     |████████████████████████████▉   | 542 kB 7.6 MB/s eta 0:00:01\r\u001b[K     |█████████████████████████████▍  | 552 kB 7.6 MB/s eta 0:00:01\r\u001b[K     |██████████████████████████████  | 563 kB 7.6 MB/s eta 0:00:01\r\u001b[K     |██████████████████████████████▌ | 573 kB 7.6 MB/s eta 0:00:01\r\u001b[K     |███████████████████████████████ | 583 kB 7.6 MB/s eta 0:00:01\r\u001b[K     |███████████████████████████████▌| 593 kB 7.6 MB/s eta 0:00:01\r\u001b[K     |████████████████████████████████| 602 kB 7.6 MB/s \n",
            "\u001b[?25hRequirement already satisfied: dm-tree~=0.1.1 in /usr/local/lib/python3.7/dist-packages (from tensorflow-federated) (0.1.6)\n",
            "Collecting cachetools~=3.1.1\n",
            "  Downloading cachetools-3.1.1-py2.py3-none-any.whl (11 kB)\n",
            "Requirement already satisfied: jax~=0.2.8 in /usr/local/lib/python3.7/dist-packages (from tensorflow-federated) (0.2.17)\n",
            "Collecting tensorflow-privacy~=0.5.0\n",
            "  Downloading tensorflow_privacy-0.5.2-py3-none-any.whl (192 kB)\n",
            "\u001b[K     |████████████████████████████████| 192 kB 14.0 MB/s \n",
            "\u001b[?25hCollecting tqdm~=4.28.1\n",
            "  Downloading tqdm-4.28.1-py2.py3-none-any.whl (45 kB)\n",
            "\u001b[K     |████████████████████████████████| 45 kB 4.5 MB/s \n",
            "\u001b[?25hCollecting attrs~=19.3.0\n",
            "  Downloading attrs-19.3.0-py2.py3-none-any.whl (39 kB)\n",
            "Requirement already satisfied: retrying~=1.3.3 in /usr/local/lib/python3.7/dist-packages (from tensorflow-federated) (1.3.3)\n",
            "Requirement already satisfied: grpcio~=1.34.0 in /usr/local/lib/python3.7/dist-packages (from tensorflow-federated) (1.34.1)\n",
            "Requirement already satisfied: tensorflow~=2.5.0 in /usr/local/lib/python3.7/dist-packages (from tensorflow-federated) (2.5.0)\n",
            "Requirement already satisfied: portpicker~=1.3.1 in /usr/local/lib/python3.7/dist-packages (from tensorflow-federated) (1.3.9)\n",
            "Collecting semantic-version~=2.8.5\n",
            "  Downloading semantic_version-2.8.5-py2.py3-none-any.whl (15 kB)\n",
            "Collecting tensorflow-model-optimization~=0.5.0\n",
            "  Downloading tensorflow_model_optimization-0.5.0-py2.py3-none-any.whl (172 kB)\n",
            "\u001b[K     |████████████████████████████████| 172 kB 22.0 MB/s \n",
            "\u001b[?25hRequirement already satisfied: jaxlib~=0.1.55 in /usr/local/lib/python3.7/dist-packages (from tensorflow-federated) (0.1.69+cuda110)\n",
            "Requirement already satisfied: numpy~=1.19.2 in /usr/local/lib/python3.7/dist-packages (from tensorflow-federated) (1.19.5)\n",
            "Requirement already satisfied: absl-py~=0.10 in /usr/local/lib/python3.7/dist-packages (from tensorflow-federated) (0.12.0)\n",
            "Requirement already satisfied: six in /usr/local/lib/python3.7/dist-packages (from absl-py~=0.10->tensorflow-federated) (1.15.0)\n",
            "Requirement already satisfied: opt-einsum in /usr/local/lib/python3.7/dist-packages (from jax~=0.2.8->tensorflow-federated) (3.3.0)\n",
            "Requirement already satisfied: scipy in /usr/local/lib/python3.7/dist-packages (from jaxlib~=0.1.55->tensorflow-federated) (1.4.1)\n",
            "Requirement already satisfied: flatbuffers<3.0,>=1.12 in /usr/local/lib/python3.7/dist-packages (from jaxlib~=0.1.55->tensorflow-federated) (1.12)\n",
            "Requirement already satisfied: gast==0.4.0 in /usr/local/lib/python3.7/dist-packages (from tensorflow~=2.5.0->tensorflow-federated) (0.4.0)\n",
            "Requirement already satisfied: typing-extensions~=3.7.4 in /usr/local/lib/python3.7/dist-packages (from tensorflow~=2.5.0->tensorflow-federated) (3.7.4.3)\n",
            "Requirement already satisfied: protobuf>=3.9.2 in /usr/local/lib/python3.7/dist-packages (from tensorflow~=2.5.0->tensorflow-federated) (3.17.3)\n",
            "Requirement already satisfied: astunparse~=1.6.3 in /usr/local/lib/python3.7/dist-packages (from tensorflow~=2.5.0->tensorflow-federated) (1.6.3)\n",
            "Requirement already satisfied: h5py~=3.1.0 in /usr/local/lib/python3.7/dist-packages (from tensorflow~=2.5.0->tensorflow-federated) (3.1.0)\n",
            "Requirement already satisfied: tensorboard~=2.5 in /usr/local/lib/python3.7/dist-packages (from tensorflow~=2.5.0->tensorflow-federated) (2.5.0)\n",
            "Requirement already satisfied: keras-preprocessing~=1.1.2 in /usr/local/lib/python3.7/dist-packages (from tensorflow~=2.5.0->tensorflow-federated) (1.1.2)\n",
            "Requirement already satisfied: tensorflow-estimator<2.6.0,>=2.5.0rc0 in /usr/local/lib/python3.7/dist-packages (from tensorflow~=2.5.0->tensorflow-federated) (2.5.0)\n",
            "Requirement already satisfied: keras-nightly~=2.5.0.dev in /usr/local/lib/python3.7/dist-packages (from tensorflow~=2.5.0->tensorflow-federated) (2.5.0.dev2021032900)\n",
            "Requirement already satisfied: wrapt~=1.12.1 in /usr/local/lib/python3.7/dist-packages (from tensorflow~=2.5.0->tensorflow-federated) (1.12.1)\n",
            "Requirement already satisfied: wheel~=0.35 in /usr/local/lib/python3.7/dist-packages (from tensorflow~=2.5.0->tensorflow-federated) (0.37.0)\n",
            "Requirement already satisfied: google-pasta~=0.2 in /usr/local/lib/python3.7/dist-packages (from tensorflow~=2.5.0->tensorflow-federated) (0.2.0)\n",
            "Requirement already satisfied: termcolor~=1.1.0 in /usr/local/lib/python3.7/dist-packages (from tensorflow~=2.5.0->tensorflow-federated) (1.1.0)\n",
            "Requirement already satisfied: cached-property in /usr/local/lib/python3.7/dist-packages (from h5py~=3.1.0->tensorflow~=2.5.0->tensorflow-federated) (1.5.2)\n",
            "Requirement already satisfied: google-auth<2,>=1.6.3 in /usr/local/lib/python3.7/dist-packages (from tensorboard~=2.5->tensorflow~=2.5.0->tensorflow-federated) (1.34.0)\n",
            "Requirement already satisfied: google-auth-oauthlib<0.5,>=0.4.1 in /usr/local/lib/python3.7/dist-packages (from tensorboard~=2.5->tensorflow~=2.5.0->tensorflow-federated) (0.4.5)\n",
            "Requirement already satisfied: tensorboard-data-server<0.7.0,>=0.6.0 in /usr/local/lib/python3.7/dist-packages (from tensorboard~=2.5->tensorflow~=2.5.0->tensorflow-federated) (0.6.1)\n",
            "Requirement already satisfied: requests<3,>=2.21.0 in /usr/local/lib/python3.7/dist-packages (from tensorboard~=2.5->tensorflow~=2.5.0->tensorflow-federated) (2.23.0)\n",
            "Requirement already satisfied: setuptools>=41.0.0 in /usr/local/lib/python3.7/dist-packages (from tensorboard~=2.5->tensorflow~=2.5.0->tensorflow-federated) (57.2.0)\n",
            "Requirement already satisfied: werkzeug>=0.11.15 in /usr/local/lib/python3.7/dist-packages (from tensorboard~=2.5->tensorflow~=2.5.0->tensorflow-federated) (1.0.1)\n",
            "Requirement already satisfied: markdown>=2.6.8 in /usr/local/lib/python3.7/dist-packages (from tensorboard~=2.5->tensorflow~=2.5.0->tensorflow-federated) (3.3.4)\n",
            "Requirement already satisfied: tensorboard-plugin-wit>=1.6.0 in /usr/local/lib/python3.7/dist-packages (from tensorboard~=2.5->tensorflow~=2.5.0->tensorflow-federated) (1.8.0)\n",
            "Requirement already satisfied: rsa<5,>=3.1.4 in /usr/local/lib/python3.7/dist-packages (from google-auth<2,>=1.6.3->tensorboard~=2.5->tensorflow~=2.5.0->tensorflow-federated) (4.7.2)\n",
            "Requirement already satisfied: pyasn1-modules>=0.2.1 in /usr/local/lib/python3.7/dist-packages (from google-auth<2,>=1.6.3->tensorboard~=2.5->tensorflow~=2.5.0->tensorflow-federated) (0.2.8)\n",
            "Requirement already satisfied: requests-oauthlib>=0.7.0 in /usr/local/lib/python3.7/dist-packages (from google-auth-oauthlib<0.5,>=0.4.1->tensorboard~=2.5->tensorflow~=2.5.0->tensorflow-federated) (1.3.0)\n",
            "Requirement already satisfied: importlib-metadata in /usr/local/lib/python3.7/dist-packages (from markdown>=2.6.8->tensorboard~=2.5->tensorflow~=2.5.0->tensorflow-federated) (4.6.3)\n",
            "Requirement already satisfied: pyasn1<0.5.0,>=0.4.6 in /usr/local/lib/python3.7/dist-packages (from pyasn1-modules>=0.2.1->google-auth<2,>=1.6.3->tensorboard~=2.5->tensorflow~=2.5.0->tensorflow-federated) (0.4.8)\n",
            "Requirement already satisfied: chardet<4,>=3.0.2 in /usr/local/lib/python3.7/dist-packages (from requests<3,>=2.21.0->tensorboard~=2.5->tensorflow~=2.5.0->tensorflow-federated) (3.0.4)\n",
            "Requirement already satisfied: urllib3!=1.25.0,!=1.25.1,<1.26,>=1.21.1 in /usr/local/lib/python3.7/dist-packages (from requests<3,>=2.21.0->tensorboard~=2.5->tensorflow~=2.5.0->tensorflow-federated) (1.24.3)\n",
            "Requirement already satisfied: certifi>=2017.4.17 in /usr/local/lib/python3.7/dist-packages (from requests<3,>=2.21.0->tensorboard~=2.5->tensorflow~=2.5.0->tensorflow-federated) (2021.5.30)\n",
            "Requirement already satisfied: idna<3,>=2.5 in /usr/local/lib/python3.7/dist-packages (from requests<3,>=2.21.0->tensorboard~=2.5->tensorflow~=2.5.0->tensorflow-federated) (2.10)\n",
            "Requirement already satisfied: oauthlib>=3.0.0 in /usr/local/lib/python3.7/dist-packages (from requests-oauthlib>=0.7.0->google-auth-oauthlib<0.5,>=0.4.1->tensorboard~=2.5->tensorflow~=2.5.0->tensorflow-federated) (3.1.1)\n",
            "Requirement already satisfied: mpmath in /usr/local/lib/python3.7/dist-packages (from tensorflow-privacy~=0.5.0->tensorflow-federated) (1.2.1)\n",
            "Requirement already satisfied: zipp>=0.5 in /usr/local/lib/python3.7/dist-packages (from importlib-metadata->markdown>=2.6.8->tensorboard~=2.5->tensorflow~=2.5.0->tensorflow-federated) (3.5.0)\n",
            "Installing collected packages: cachetools, tqdm, tensorflow-privacy, tensorflow-model-optimization, semantic-version, attrs, tensorflow-federated\n",
            "  Attempting uninstall: cachetools\n",
            "    Found existing installation: cachetools 4.2.2\n",
            "    Uninstalling cachetools-4.2.2:\n",
            "      Successfully uninstalled cachetools-4.2.2\n",
            "  Attempting uninstall: tqdm\n",
            "    Found existing installation: tqdm 4.62.0\n",
            "    Uninstalling tqdm-4.62.0:\n",
            "      Successfully uninstalled tqdm-4.62.0\n",
            "  Attempting uninstall: attrs\n",
            "    Found existing installation: attrs 21.2.0\n",
            "    Uninstalling attrs-21.2.0:\n",
            "      Successfully uninstalled attrs-21.2.0\n",
            "\u001b[31mERROR: pip's dependency resolver does not currently take into account all the packages that are installed. This behaviour is the source of the following dependency conflicts.\n",
            "spacy 2.2.4 requires tqdm<5.0.0,>=4.38.0, but you have tqdm 4.28.1 which is incompatible.\n",
            "pymc3 3.11.2 requires cachetools>=4.2.1, but you have cachetools 3.1.1 which is incompatible.\n",
            "panel 0.12.1 requires tqdm>=4.48.0, but you have tqdm 4.28.1 which is incompatible.\n",
            "fbprophet 0.7.1 requires tqdm>=4.36.1, but you have tqdm 4.28.1 which is incompatible.\n",
            "datascience 0.10.6 requires folium==0.2.1, but you have folium 0.8.3 which is incompatible.\u001b[0m\n",
            "Successfully installed attrs-19.3.0 cachetools-3.1.1 semantic-version-2.8.5 tensorflow-federated-0.19.0 tensorflow-model-optimization-0.5.0 tensorflow-privacy-0.5.2 tqdm-4.28.1\n"
          ],
          "name": "stdout"
        }
      ]
    },
    {
      "cell_type": "code",
      "metadata": {
        "id": "KLTdNN_-i1UM"
      },
      "source": [
        "import os\n",
        "import collections\n",
        "import numpy as np\n",
        "import scipy.io as sio\n",
        "import tensorflow as tf\n",
        "import tensorflow_federated as tff\n",
        "import matplotlib.pyplot as plt\n",
        "from keras import backend as K \n",
        "from keras.layers import Layer\n",
        "\n",
        "################################ Functions ################################\n",
        "\n",
        "def dc_compensation(z):\n",
        "    \"\"\"\n",
        "    Function to estimate and remove DC impairments in the IQ branch\n",
        "    Parameters:\n",
        "    z: DC impaired signal sequence (numpy format)\n",
        "    Returns:\n",
        "    v: DC removed signal sequence\n",
        "    \"\"\"\n",
        "    iDCest=np.mean(z[:, 0]) # estimated DC on I branch\n",
        "    qDCest=np.mean(z[:, 1]) # estimated DC on I branch\n",
        "    v=z-(iDCest+1j*qDCest) # remove estimated DCs\n",
        "    return v\n",
        "\n",
        "def blind_iq_compensation(z):\n",
        "    \"\"\"\n",
        "    Function to estimate and compensate IQ impairments for the\n",
        "    single-branch IQ impairment model\n",
        "    Parameters:\n",
        "    z: DC impaired signal sequence (numpy format)\n",
        "    Returns:\n",
        "    y: IQ imbalance compensated signal sequence\n",
        "    \"\"\"\n",
        "    I=z[:, 0];Q=z[:, 1]\n",
        "    theta1=(-1)*np.mean(np.sign(I)*Q)\n",
        "    theta2=np.mean(abs(I)); theta3=np.mean(abs(Q))\n",
        "    c1=theta1/theta2\n",
        "    c2=np.sqrt((theta3**2-theta1**2)/theta2**2)\n",
        "    x_u2 = I +1j*(c1*I+Q)/c2\n",
        "    return x_u2\n",
        "\n",
        "\n",
        "def usergen(x, y, iid, N0):\n",
        "    if iid==True:\n",
        "        sigma = 1 # i.i.d. user fading \n",
        "    else:\n",
        "        sigma = np.random.uniform(low=0.5, high=1.5, size=None) #non-i.i.d. user fading\n",
        "        \n",
        "    h = np.random.rayleigh(scale=sigma, size=(x.shape[0],1))\n",
        "    hIQ=np.concatenate((h,h),axis=1)\n",
        "    x_u = np.multiply(hIQ,x)+ np.random.normal(0, np.sqrt(N0)/2, x.shape) # Channel-distorted noisy features\n",
        "    y_u = np.real(y) # Labels\n",
        "    # print(y_u)\n",
        "    # y_u = np.interp(y_u, (y_u.min(), y_u.max()), (0, 1))\n",
        "    D_u = tf.data.Dataset.from_tensor_slices((list(x_u),list(y_u.astype(int))))\n",
        "\n",
        "    return D_u\n",
        "\n",
        "\n",
        "def testgen(x, y, iid, N0):\n",
        "    if iid==True:\n",
        "        h = np.random.rayleigh(scale=1, size=(x.shape[0],1)) # i.i.d. test fading \n",
        "    else:\n",
        "        h = np.random.rayleigh(scale=np.random.uniform(low=0.5, high=1.5, size=(x.shape[0],1)), size=(x.shape[0],1)) # non-i.i.d. user fading\n",
        "    hIQ = np.concatenate((h,h),axis=1)\n",
        "    x_test = np.multiply(hIQ,x) + np.random.normal(0, np.sqrt(N0)/2, x.shape) # Channel-distorted noisy features\n",
        "    y_test = np.real(y) # Labels\n",
        "    # print(y_test)\n",
        "    # y_test = np.interp(y_test, (y_test.min(), y_test.max()), (0, 1))\n",
        "\n",
        "    dataset_test = tf.data.Dataset.from_tensor_slices((list(x_test),list(y_test.astype(int))))\n",
        "    \n",
        "    return dataset_test\n",
        "\n",
        "\n",
        "def preprocess(dataset):\n",
        "    EPOCH = 5 # Number of local epochs for each aggragation round\n",
        "    AGGREGATION_ROUND = 5 # Number of federated aggregation rounds\n",
        "    BATCH_SIZE = 1000 \n",
        "    SHUFFLE_BUFFER = 20\n",
        "    PREFETCH_BUFFER = 10\n",
        "    def batch_format_fn(element1,element2):\n",
        "        return collections.OrderedDict(\n",
        "            x=tf.reshape(element1, [-1, 1, 2]),\n",
        "            y=tf.reshape(element2, [-1, 1]))\n",
        "    return dataset.repeat(EPOCH).shuffle(SHUFFLE_BUFFER).batch(\n",
        "        BATCH_SIZE).map(batch_format_fn).prefetch(PREFETCH_BUFFER)"
      ],
      "execution_count": 3,
      "outputs": []
    },
    {
      "cell_type": "code",
      "metadata": {
        "id": "u__7LoK6mpGi"
      },
      "source": [
        "class CompensateLayer(Layer): \n",
        "   def __init__(self, output_dim, **kwargs): \n",
        "      self.output_dim = output_dim \n",
        "      super(CompensateLayer, self).__init__(**kwargs) \n",
        "   def build(self, input_shape): \n",
        "    self.kernel = self.add_weight(name = 'kernel', \n",
        "      shape = (input_shape[1], self.output_dim), \n",
        "      initializer = 'normal', trainable = True) \n",
        "    super(CompensateLayer, self).build(input_shape)   \n",
        "   def call(self, input_data): \n",
        "     x = K.dot(input_data, self.kernel)\n",
        "     x = K.expand_dims(x, axis = 1)\n",
        "     return x - K.mean(x, axis = [0, 1, 2])\n",
        "   def compute_output_shape(self, input_shape): return (input_shape[0], self.output_dim)"
      ],
      "execution_count": 4,
      "outputs": []
    },
    {
      "cell_type": "code",
      "metadata": {
        "id": "7CS4yBvEmTzg"
      },
      "source": [
        "def create_keras_model():\n",
        "    Q = 4 \n",
        "    M = 2**Q # 16QAM modulation\n",
        "    Es = 10 # Average symbol energy\n",
        "    model = tf.keras.models.Sequential()\n",
        "    model.add(tf.keras.layers.Input(shape=(1,2)))\n",
        "    # model.add(CompensateLayer(2, input_shape = (1,2)))\n",
        "    model.add(tf.keras.layers.PReLU())\n",
        "    model.add(tf.keras.layers.LSTM(4))\n",
        "    model.add(tf.keras.layers.Dense(M, activation=tf.keras.activations.softmax))\n",
        "    return model"
      ],
      "execution_count": 10,
      "outputs": []
    },
    {
      "cell_type": "code",
      "metadata": {
        "id": "Zc5goxQ4mEIg"
      },
      "source": [
        "def model_fn():\n",
        "  keras_model = create_keras_model()\n",
        "  return tff.learning.from_keras_model(\n",
        "      keras_model,\n",
        "      input_spec=preprocessed_example_dataset.element_spec,\n",
        "      loss=tf.keras.losses.SparseCategoricalCrossentropy(),\n",
        "      metrics=[tf.keras.metrics.SparseCategoricalAccuracy()])\n"
      ],
      "execution_count": 6,
      "outputs": []
    },
    {
      "cell_type": "code",
      "metadata": {
        "colab": {
          "base_uri": "https://localhost:8080/"
        },
        "id": "u_9R4E9g2jt4",
        "outputId": "2aca3a8a-9290-4984-af32-11a95c4b5e3e"
      },
      "source": [
        "%cd \"/content/drive/MyDrive/Tasnim_BUET/11 august/fedrec_moderation\"\n",
        "def train(user_g, snr_g, iid_g):\n",
        "    os.environ[\"CUDA_VISIBLE_DEVICES\"] = \"0\"\n",
        "\n",
        "    MC = 10 # Number of Monte Carlo trials\n",
        "    iid = iid_g # set to False to simulate non-iid user fading \n",
        "\n",
        "    ### Modulation Parameters\n",
        "    Q = 4 \n",
        "    M = 4**Q # 16QAM modulation\n",
        "    Es = 10 # Average symbol energy\n",
        "\n",
        "    ### Noise Parameters\n",
        "    EbN0_dB = snr_g # SNR per bit (dB)\n",
        "    EsN0_dB = EbN0_dB + 10*np.log10(Q) # SNR per symbol (dB)\n",
        "    N0 = Es/10**(EsN0_dB/10)\n",
        "\n",
        "    ### FedRec Training Parameters\n",
        "    U = user_g # Number of wireless users taking part in federated training\n",
        "    EPOCH = 5 # Number of local epochs for each aggragation round\n",
        "    AGGREGATION_ROUND = 5 # Number of federated aggregation rounds\n",
        "    BATCH_SIZE = 1000 \n",
        "    SHUFFLE_BUFFER = 20\n",
        "    PREFETCH_BUFFER = 10\n",
        "\n",
        "    ### Load QAM I/Q Symbols\n",
        "    TRAIN = sio.loadmat('TRAIN_fedrec.mat')\n",
        "    Train = TRAIN['TRAIN']\n",
        "    TEST = sio.loadmat('TEST_fedrec.mat')\n",
        "    Test = TEST['TEST']\n",
        "\n",
        "\n",
        "    ### Generate Real-valued Train/Test Features/Labels\n",
        "    N_T = int(Train.shape[0]/U) # Size of local user datasets \n",
        "    x_train = np.zeros((N_T,2))\n",
        "    x_train[:,0] = np.real(Train[0:N_T,0])\n",
        "    x_train[:,1] = np.imag(Train[0:N_T,0])\n",
        "    y_train = Train[0:N_T,1]-1\n",
        "\n",
        "    x_test = np.zeros((Test.shape[0],2))\n",
        "    x_test[:,0] = np.real(Test[:,0])\n",
        "    x_test[:,1] = np.imag(Test[:,0])\n",
        "    y_test = Test[:,1]-1\n",
        "\n",
        "\n",
        "    example_dataset = usergen(x_train, y_train, iid, N0)\n",
        "    # print(f\"uplink dataset: U_U: {len(example_dataset)}\")\n",
        "    preprocessed_example_dataset=preprocess(example_dataset)\n",
        "    example_element = next(iter((preprocessed_example_dataset)))\n",
        "\n",
        "    def model_fn():\n",
        "        keras_model = create_keras_model()\n",
        "        return tff.learning.from_keras_model(\n",
        "            keras_model,\n",
        "            input_spec=preprocessed_example_dataset.element_spec,\n",
        "            loss=tf.keras.losses.SparseCategoricalCrossentropy(),\n",
        "            metrics=[tf.keras.metrics.SparseCategoricalAccuracy()])\n",
        "\n",
        "\n",
        "    iterative_process = tff.learning.build_federated_averaging_process(\n",
        "        model_fn,\n",
        "        client_optimizer_fn=lambda: tf.keras.optimizers.Adam(learning_rate=0.05),\n",
        "        server_optimizer_fn=lambda: tf.keras.optimizers.SGD(learning_rate=1.0))\n",
        "\n",
        "    evaluation = tff.learning.build_federated_evaluation(model_fn)\n",
        "    print(evaluation)\n",
        "\n",
        "\n",
        "    BER = 0\n",
        "    for i in range(MC):\n",
        "        \n",
        "        print('##############################')\n",
        "        print('Monte Carlo Trial # ', i+1)\n",
        "        \n",
        "        ### Generate Federated User Datasets\n",
        "        federated_train_data=[]\n",
        "        for u in range(U):\n",
        "            D_u = usergen(x_train, y_train, iid, N0) ### Generate Local Dataset at user u\n",
        "            # print(f\"downlink dataset: D_U: {len(D_u)}\")\n",
        "            federated_train_data.append(preprocess(D_u))\n",
        "            print(D_u)\n",
        "                \n",
        "        ### Generate Test Dataset\n",
        "        test_dataset = testgen(x_test, y_test, iid, N0)\n",
        "        federated_test_data=[preprocess(test_dataset)]\n",
        "        print(federated_test_data)\n",
        "        \n",
        "        ### Federated Training\n",
        "        state = iterative_process.initialize()\n",
        "        for n in range(AGGREGATION_ROUND):\n",
        "            state, metrics = iterative_process.next(state, federated_train_data)\n",
        "            # print(str(metrics))\n",
        "            \n",
        "            ### Evaluate the Model\n",
        "            test_metrics = evaluation(state.model, federated_test_data)\n",
        "            print(str(test_metrics))\n",
        "        \n",
        "        BER = BER + (1-test_metrics['sparse_categorical_accuracy'])/(Q*MC)\n",
        "\n",
        "        \n",
        "    print('##############################')\n",
        "    print('4QAM at Eb/N0=', EbN0_dB, 'dB')\n",
        "    print('FedRec trained collaboratively by ', U, 'users')\n",
        "    if iid==True:\n",
        "            iidstr = 'iid' \n",
        "    else:\n",
        "            iidstr = 'non-iid'\n",
        "    print(iidstr, ' Rayleigh fading')\n",
        "    print('BER= ', BER)\n",
        "\n",
        "    return BER"
      ],
      "execution_count": 7,
      "outputs": [
        {
          "output_type": "stream",
          "text": [
            "/content/drive/MyDrive/Tasnim_BUET/11 august/fedrec_moderation\n"
          ],
          "name": "stdout"
        }
      ]
    },
    {
      "cell_type": "code",
      "metadata": {
        "colab": {
          "base_uri": "https://localhost:8080/"
        },
        "id": "RjQtG8kt4qJ8",
        "outputId": "42d9a421-274b-4b14-f898-9c8f96d7726e"
      },
      "source": [
        "!pip install nest_asyncio\n",
        "import nest_asyncio\n",
        "nest_asyncio.apply()"
      ],
      "execution_count": 8,
      "outputs": [
        {
          "output_type": "stream",
          "text": [
            "Requirement already satisfied: nest_asyncio in /usr/local/lib/python3.7/dist-packages (1.5.1)\n"
          ],
          "name": "stdout"
        }
      ]
    },
    {
      "cell_type": "code",
      "metadata": {
        "colab": {
          "base_uri": "https://localhost:8080/"
        },
        "id": "Jd8gnJN9mJK2",
        "outputId": "ef700961-c381-4f5d-9b63-3272ad17cd2f"
      },
      "source": [
        "def main():\n",
        "    ber = []\n",
        "    iid = False\n",
        "    dataset_setup = 'lstm'\n",
        "    %cd \"/content/drive/MyDrive/Tasnim_BUET/11 august/fedrec_moderation\"\n",
        "    for i in [1, 5, 10, 100, 1000]:\n",
        "      print(i)\n",
        "      x = train(i, 5, iid)\n",
        "      ber.append(x)\n",
        "      with open(f'user_change_{iid}_dataset_setup_{dataset_setup}_5db.txt', 'a+') as f:\n",
        "        f.write(str(x) + '\\n')\n",
        "    with open(f'user_change_{iid}_dataset_setup_{dataset_setup}_5db.txt', 'a+') as f:\n",
        "        f.write(str(ber) + '\\n')\n",
        "main()"
      ],
      "execution_count": null,
      "outputs": [
        {
          "output_type": "stream",
          "text": [
            "/content/drive/MyDrive/Tasnim_BUET/11 august/fedrec_moderation\n",
            "1\n",
            "WARNING:tensorflow:Please add `keras.layers.InputLayer` instead of `keras.Input` to Sequential model. `keras.Input` is intended to be used by Functional model.\n",
            "WARNING:tensorflow:Layer lstm will not use cuDNN kernels since it doesn't meet the criteria. It will use a generic GPU kernel as fallback when running on GPU.\n",
            "WARNING:tensorflow:Please add `keras.layers.InputLayer` instead of `keras.Input` to Sequential model. `keras.Input` is intended to be used by Functional model.\n",
            "WARNING:tensorflow:Layer lstm will not use cuDNN kernels since it doesn't meet the criteria. It will use a generic GPU kernel as fallback when running on GPU.\n",
            "WARNING:tensorflow:Please add `keras.layers.InputLayer` instead of `keras.Input` to Sequential model. `keras.Input` is intended to be used by Functional model.\n",
            "WARNING:tensorflow:Layer lstm will not use cuDNN kernels since it doesn't meet the criteria. It will use a generic GPU kernel as fallback when running on GPU.\n",
            "WARNING:tensorflow:Please add `keras.layers.InputLayer` instead of `keras.Input` to Sequential model. `keras.Input` is intended to be used by Functional model.\n",
            "WARNING:tensorflow:Layer lstm will not use cuDNN kernels since it doesn't meet the criteria. It will use a generic GPU kernel as fallback when running on GPU.\n",
            "WARNING:tensorflow:Please add `keras.layers.InputLayer` instead of `keras.Input` to Sequential model. `keras.Input` is intended to be used by Functional model.\n",
            "WARNING:tensorflow:Layer lstm will not use cuDNN kernels since it doesn't meet the criteria. It will use a generic GPU kernel as fallback when running on GPU.\n",
            "WARNING:tensorflow:Please add `keras.layers.InputLayer` instead of `keras.Input` to Sequential model. `keras.Input` is intended to be used by Functional model.\n",
            "WARNING:tensorflow:Layer lstm will not use cuDNN kernels since it doesn't meet the criteria. It will use a generic GPU kernel as fallback when running on GPU.\n",
            "<tensorflow_federated.python.core.impl.computation.computation_impl.ComputationImpl object at 0x7f6654900410>\n",
            "##############################\n",
            "Monte Carlo Trial #  1\n",
            "<TensorSliceDataset shapes: ((2,), ()), types: (tf.float64, tf.int32)>\n",
            "[<PrefetchDataset shapes: OrderedDict([(x, (None, 1, 2)), (y, (None, 1))]), types: OrderedDict([(x, tf.float64), (y, tf.int32)])>]\n",
            "WARNING:tensorflow:From /usr/local/lib/python3.7/dist-packages/tensorflow_federated/python/core/impl/compiler/tensorflow_computation_transformations.py:60: extract_sub_graph (from tensorflow.python.framework.graph_util_impl) is deprecated and will be removed in a future version.\n",
            "Instructions for updating:\n",
            "Use `tf.compat.v1.graph_util.extract_sub_graph`\n"
          ],
          "name": "stdout"
        },
        {
          "output_type": "stream",
          "text": [
            "WARNING:tensorflow:From /usr/local/lib/python3.7/dist-packages/tensorflow_federated/python/core/impl/compiler/tensorflow_computation_transformations.py:60: extract_sub_graph (from tensorflow.python.framework.graph_util_impl) is deprecated and will be removed in a future version.\n",
            "Instructions for updating:\n",
            "Use `tf.compat.v1.graph_util.extract_sub_graph`\n"
          ],
          "name": "stderr"
        },
        {
          "output_type": "stream",
          "text": [
            "OrderedDict([('sparse_categorical_accuracy', 0.565295), ('loss', 1.1383452)])\n",
            "OrderedDict([('sparse_categorical_accuracy', 0.642239), ('loss', 1.0051048)])\n",
            "OrderedDict([('sparse_categorical_accuracy', 0.655646), ('loss', 0.970298)])\n",
            "OrderedDict([('sparse_categorical_accuracy', 0.658334), ('loss', 0.9526218)])\n",
            "OrderedDict([('sparse_categorical_accuracy', 0.660758), ('loss', 0.9419035)])\n",
            "##############################\n",
            "Monte Carlo Trial #  2\n",
            "<TensorSliceDataset shapes: ((2,), ()), types: (tf.float64, tf.int32)>\n",
            "[<PrefetchDataset shapes: OrderedDict([(x, (None, 1, 2)), (y, (None, 1))]), types: OrderedDict([(x, tf.float64), (y, tf.int32)])>]\n",
            "OrderedDict([('sparse_categorical_accuracy', 0.622365), ('loss', 1.0333968)])\n",
            "OrderedDict([('sparse_categorical_accuracy', 0.678726), ('loss', 0.8856027)])\n",
            "OrderedDict([('sparse_categorical_accuracy', 0.695213), ('loss', 0.848561)])\n",
            "OrderedDict([('sparse_categorical_accuracy', 0.701022), ('loss', 0.83072096)])\n",
            "OrderedDict([('sparse_categorical_accuracy', 0.704064), ('loss', 0.8225695)])\n",
            "##############################\n",
            "Monte Carlo Trial #  3\n",
            "<TensorSliceDataset shapes: ((2,), ()), types: (tf.float64, tf.int32)>\n",
            "[<PrefetchDataset shapes: OrderedDict([(x, (None, 1, 2)), (y, (None, 1))]), types: OrderedDict([(x, tf.float64), (y, tf.int32)])>]\n",
            "OrderedDict([('sparse_categorical_accuracy', 0.662336), ('loss', 1.0453286)])\n",
            "OrderedDict([('sparse_categorical_accuracy', 0.711755), ('loss', 0.8473172)])\n",
            "OrderedDict([('sparse_categorical_accuracy', 0.729364), ('loss', 0.7854621)])\n",
            "OrderedDict([('sparse_categorical_accuracy', 0.73555), ('loss', 0.7581094)])\n",
            "OrderedDict([('sparse_categorical_accuracy', 0.737066), ('loss', 0.7451776)])\n",
            "##############################\n",
            "Monte Carlo Trial #  4\n",
            "<TensorSliceDataset shapes: ((2,), ()), types: (tf.float64, tf.int32)>\n",
            "[<PrefetchDataset shapes: OrderedDict([(x, (None, 1, 2)), (y, (None, 1))]), types: OrderedDict([(x, tf.float64), (y, tf.int32)])>]\n",
            "OrderedDict([('sparse_categorical_accuracy', 0.643039), ('loss', 1.1403146)])\n",
            "OrderedDict([('sparse_categorical_accuracy', 0.702841), ('loss', 0.902888)])\n",
            "OrderedDict([('sparse_categorical_accuracy', 0.719254), ('loss', 0.81971)])\n",
            "OrderedDict([('sparse_categorical_accuracy', 0.72661), ('loss', 0.78968436)])\n",
            "OrderedDict([('sparse_categorical_accuracy', 0.729229), ('loss', 0.7769547)])\n",
            "##############################\n",
            "Monte Carlo Trial #  5\n",
            "<TensorSliceDataset shapes: ((2,), ()), types: (tf.float64, tf.int32)>\n",
            "[<PrefetchDataset shapes: OrderedDict([(x, (None, 1, 2)), (y, (None, 1))]), types: OrderedDict([(x, tf.float64), (y, tf.int32)])>]\n",
            "OrderedDict([('sparse_categorical_accuracy', 0.663206), ('loss', 1.0598854)])\n",
            "OrderedDict([('sparse_categorical_accuracy', 0.703491), ('loss', 0.8900204)])\n",
            "OrderedDict([('sparse_categorical_accuracy', 0.713285), ('loss', 0.8377463)])\n",
            "OrderedDict([('sparse_categorical_accuracy', 0.718547), ('loss', 0.80676484)])\n",
            "OrderedDict([('sparse_categorical_accuracy', 0.721413), ('loss', 0.78823614)])\n",
            "##############################\n",
            "Monte Carlo Trial #  6\n",
            "<TensorSliceDataset shapes: ((2,), ()), types: (tf.float64, tf.int32)>\n",
            "[<PrefetchDataset shapes: OrderedDict([(x, (None, 1, 2)), (y, (None, 1))]), types: OrderedDict([(x, tf.float64), (y, tf.int32)])>]\n",
            "OrderedDict([('sparse_categorical_accuracy', 0.62891), ('loss', 1.1075048)])\n",
            "OrderedDict([('sparse_categorical_accuracy', 0.720822), ('loss', 0.8543005)])\n",
            "OrderedDict([('sparse_categorical_accuracy', 0.735288), ('loss', 0.7787172)])\n",
            "OrderedDict([('sparse_categorical_accuracy', 0.738694), ('loss', 0.75153273)])\n",
            "OrderedDict([('sparse_categorical_accuracy', 0.739497), ('loss', 0.7412889)])\n",
            "##############################\n",
            "Monte Carlo Trial #  7\n",
            "<TensorSliceDataset shapes: ((2,), ()), types: (tf.float64, tf.int32)>\n",
            "[<PrefetchDataset shapes: OrderedDict([(x, (None, 1, 2)), (y, (None, 1))]), types: OrderedDict([(x, tf.float64), (y, tf.int32)])>]\n",
            "OrderedDict([('sparse_categorical_accuracy', 0.610177), ('loss', 1.1503361)])\n",
            "OrderedDict([('sparse_categorical_accuracy', 0.705811), ('loss', 0.8696649)])\n",
            "OrderedDict([('sparse_categorical_accuracy', 0.712441), ('loss', 0.8236796)])\n",
            "OrderedDict([('sparse_categorical_accuracy', 0.718266), ('loss', 0.79597044)])\n",
            "OrderedDict([('sparse_categorical_accuracy', 0.721302), ('loss', 0.7827847)])\n",
            "##############################\n",
            "Monte Carlo Trial #  8\n",
            "<TensorSliceDataset shapes: ((2,), ()), types: (tf.float64, tf.int32)>\n",
            "[<PrefetchDataset shapes: OrderedDict([(x, (None, 1, 2)), (y, (None, 1))]), types: OrderedDict([(x, tf.float64), (y, tf.int32)])>]\n",
            "OrderedDict([('sparse_categorical_accuracy', 0.655929), ('loss', 1.0167719)])\n",
            "OrderedDict([('sparse_categorical_accuracy', 0.712433), ('loss', 0.8645105)])\n",
            "OrderedDict([('sparse_categorical_accuracy', 0.724242), ('loss', 0.7967588)])\n",
            "OrderedDict([('sparse_categorical_accuracy', 0.729449), ('loss', 0.7670879)])\n",
            "OrderedDict([('sparse_categorical_accuracy', 0.73325), ('loss', 0.7490063)])\n",
            "##############################\n",
            "Monte Carlo Trial #  9\n",
            "<TensorSliceDataset shapes: ((2,), ()), types: (tf.float64, tf.int32)>\n",
            "[<PrefetchDataset shapes: OrderedDict([(x, (None, 1, 2)), (y, (None, 1))]), types: OrderedDict([(x, tf.float64), (y, tf.int32)])>]\n",
            "OrderedDict([('sparse_categorical_accuracy', 0.589526), ('loss', 1.0749308)])\n",
            "OrderedDict([('sparse_categorical_accuracy', 0.645133), ('loss', 0.9562833)])\n",
            "OrderedDict([('sparse_categorical_accuracy', 0.662733), ('loss', 0.9088224)])\n",
            "OrderedDict([('sparse_categorical_accuracy', 0.673301), ('loss', 0.9187309)])\n",
            "OrderedDict([('sparse_categorical_accuracy', 0.677249), ('loss', 0.9140122)])\n",
            "##############################\n",
            "Monte Carlo Trial #  10\n",
            "<TensorSliceDataset shapes: ((2,), ()), types: (tf.float64, tf.int32)>\n",
            "[<PrefetchDataset shapes: OrderedDict([(x, (None, 1, 2)), (y, (None, 1))]), types: OrderedDict([(x, tf.float64), (y, tf.int32)])>]\n",
            "OrderedDict([('sparse_categorical_accuracy', 0.612357), ('loss', 1.0823393)])\n",
            "OrderedDict([('sparse_categorical_accuracy', 0.698951), ('loss', 0.8860961)])\n",
            "OrderedDict([('sparse_categorical_accuracy', 0.705819), ('loss', 0.83237785)])\n",
            "OrderedDict([('sparse_categorical_accuracy', 0.713228), ('loss', 0.8075011)])\n",
            "OrderedDict([('sparse_categorical_accuracy', 0.716352), ('loss', 0.7978488)])\n",
            "##############################\n",
            "4QAM at Eb/N0= 5 dB\n",
            "FedRec trained collaboratively by  1 users\n",
            "non-iid  Rayleigh fading\n",
            "BER=  0.07149550020694734\n",
            "5\n",
            "WARNING:tensorflow:Please add `keras.layers.InputLayer` instead of `keras.Input` to Sequential model. `keras.Input` is intended to be used by Functional model.\n"
          ],
          "name": "stdout"
        },
        {
          "output_type": "stream",
          "text": [
            "WARNING:tensorflow:Please add `keras.layers.InputLayer` instead of `keras.Input` to Sequential model. `keras.Input` is intended to be used by Functional model.\n"
          ],
          "name": "stderr"
        },
        {
          "output_type": "stream",
          "text": [
            "WARNING:tensorflow:Layer lstm will not use cuDNN kernels since it doesn't meet the criteria. It will use a generic GPU kernel as fallback when running on GPU.\n"
          ],
          "name": "stdout"
        },
        {
          "output_type": "stream",
          "text": [
            "WARNING:tensorflow:Layer lstm will not use cuDNN kernels since it doesn't meet the criteria. It will use a generic GPU kernel as fallback when running on GPU.\n"
          ],
          "name": "stderr"
        },
        {
          "output_type": "stream",
          "text": [
            "WARNING:tensorflow:Please add `keras.layers.InputLayer` instead of `keras.Input` to Sequential model. `keras.Input` is intended to be used by Functional model.\n"
          ],
          "name": "stdout"
        },
        {
          "output_type": "stream",
          "text": [
            "WARNING:tensorflow:Please add `keras.layers.InputLayer` instead of `keras.Input` to Sequential model. `keras.Input` is intended to be used by Functional model.\n"
          ],
          "name": "stderr"
        },
        {
          "output_type": "stream",
          "text": [
            "WARNING:tensorflow:Layer lstm will not use cuDNN kernels since it doesn't meet the criteria. It will use a generic GPU kernel as fallback when running on GPU.\n"
          ],
          "name": "stdout"
        },
        {
          "output_type": "stream",
          "text": [
            "WARNING:tensorflow:Layer lstm will not use cuDNN kernels since it doesn't meet the criteria. It will use a generic GPU kernel as fallback when running on GPU.\n"
          ],
          "name": "stderr"
        },
        {
          "output_type": "stream",
          "text": [
            "WARNING:tensorflow:Please add `keras.layers.InputLayer` instead of `keras.Input` to Sequential model. `keras.Input` is intended to be used by Functional model.\n"
          ],
          "name": "stdout"
        },
        {
          "output_type": "stream",
          "text": [
            "WARNING:tensorflow:Please add `keras.layers.InputLayer` instead of `keras.Input` to Sequential model. `keras.Input` is intended to be used by Functional model.\n"
          ],
          "name": "stderr"
        },
        {
          "output_type": "stream",
          "text": [
            "WARNING:tensorflow:Layer lstm will not use cuDNN kernels since it doesn't meet the criteria. It will use a generic GPU kernel as fallback when running on GPU.\n"
          ],
          "name": "stdout"
        },
        {
          "output_type": "stream",
          "text": [
            "WARNING:tensorflow:Layer lstm will not use cuDNN kernels since it doesn't meet the criteria. It will use a generic GPU kernel as fallback when running on GPU.\n"
          ],
          "name": "stderr"
        },
        {
          "output_type": "stream",
          "text": [
            "WARNING:tensorflow:Please add `keras.layers.InputLayer` instead of `keras.Input` to Sequential model. `keras.Input` is intended to be used by Functional model.\n"
          ],
          "name": "stdout"
        },
        {
          "output_type": "stream",
          "text": [
            "WARNING:tensorflow:Please add `keras.layers.InputLayer` instead of `keras.Input` to Sequential model. `keras.Input` is intended to be used by Functional model.\n"
          ],
          "name": "stderr"
        },
        {
          "output_type": "stream",
          "text": [
            "WARNING:tensorflow:Layer lstm will not use cuDNN kernels since it doesn't meet the criteria. It will use a generic GPU kernel as fallback when running on GPU.\n"
          ],
          "name": "stdout"
        },
        {
          "output_type": "stream",
          "text": [
            "WARNING:tensorflow:Layer lstm will not use cuDNN kernels since it doesn't meet the criteria. It will use a generic GPU kernel as fallback when running on GPU.\n"
          ],
          "name": "stderr"
        },
        {
          "output_type": "stream",
          "text": [
            "WARNING:tensorflow:Please add `keras.layers.InputLayer` instead of `keras.Input` to Sequential model. `keras.Input` is intended to be used by Functional model.\n"
          ],
          "name": "stdout"
        },
        {
          "output_type": "stream",
          "text": [
            "WARNING:tensorflow:Please add `keras.layers.InputLayer` instead of `keras.Input` to Sequential model. `keras.Input` is intended to be used by Functional model.\n"
          ],
          "name": "stderr"
        },
        {
          "output_type": "stream",
          "text": [
            "WARNING:tensorflow:Layer lstm will not use cuDNN kernels since it doesn't meet the criteria. It will use a generic GPU kernel as fallback when running on GPU.\n"
          ],
          "name": "stdout"
        },
        {
          "output_type": "stream",
          "text": [
            "WARNING:tensorflow:Layer lstm will not use cuDNN kernels since it doesn't meet the criteria. It will use a generic GPU kernel as fallback when running on GPU.\n"
          ],
          "name": "stderr"
        },
        {
          "output_type": "stream",
          "text": [
            "WARNING:tensorflow:Please add `keras.layers.InputLayer` instead of `keras.Input` to Sequential model. `keras.Input` is intended to be used by Functional model.\n"
          ],
          "name": "stdout"
        },
        {
          "output_type": "stream",
          "text": [
            "WARNING:tensorflow:Please add `keras.layers.InputLayer` instead of `keras.Input` to Sequential model. `keras.Input` is intended to be used by Functional model.\n"
          ],
          "name": "stderr"
        },
        {
          "output_type": "stream",
          "text": [
            "WARNING:tensorflow:Layer lstm will not use cuDNN kernels since it doesn't meet the criteria. It will use a generic GPU kernel as fallback when running on GPU.\n"
          ],
          "name": "stdout"
        },
        {
          "output_type": "stream",
          "text": [
            "WARNING:tensorflow:Layer lstm will not use cuDNN kernels since it doesn't meet the criteria. It will use a generic GPU kernel as fallback when running on GPU.\n"
          ],
          "name": "stderr"
        },
        {
          "output_type": "stream",
          "text": [
            "<tensorflow_federated.python.core.impl.computation.computation_impl.ComputationImpl object at 0x7f65c989a790>\n",
            "##############################\n",
            "Monte Carlo Trial #  1\n",
            "<TensorSliceDataset shapes: ((2,), ()), types: (tf.float64, tf.int32)>\n",
            "<TensorSliceDataset shapes: ((2,), ()), types: (tf.float64, tf.int32)>\n",
            "<TensorSliceDataset shapes: ((2,), ()), types: (tf.float64, tf.int32)>\n",
            "<TensorSliceDataset shapes: ((2,), ()), types: (tf.float64, tf.int32)>\n",
            "<TensorSliceDataset shapes: ((2,), ()), types: (tf.float64, tf.int32)>\n",
            "[<PrefetchDataset shapes: OrderedDict([(x, (None, 1, 2)), (y, (None, 1))]), types: OrderedDict([(x, tf.float64), (y, tf.int32)])>]\n",
            "OrderedDict([('sparse_categorical_accuracy', 0.220215), ('loss', 2.1313007)])\n",
            "OrderedDict([('sparse_categorical_accuracy', 0.477713), ('loss', 1.5136422)])\n",
            "OrderedDict([('sparse_categorical_accuracy', 0.58369), ('loss', 1.2631584)])\n",
            "OrderedDict([('sparse_categorical_accuracy', 0.645634), ('loss', 1.1297716)])\n",
            "OrderedDict([('sparse_categorical_accuracy', 0.665653), ('loss', 1.0495234)])\n",
            "##############################\n",
            "Monte Carlo Trial #  2\n",
            "<TensorSliceDataset shapes: ((2,), ()), types: (tf.float64, tf.int32)>\n",
            "<TensorSliceDataset shapes: ((2,), ()), types: (tf.float64, tf.int32)>\n",
            "<TensorSliceDataset shapes: ((2,), ()), types: (tf.float64, tf.int32)>\n",
            "<TensorSliceDataset shapes: ((2,), ()), types: (tf.float64, tf.int32)>\n",
            "<TensorSliceDataset shapes: ((2,), ()), types: (tf.float64, tf.int32)>\n",
            "[<PrefetchDataset shapes: OrderedDict([(x, (None, 1, 2)), (y, (None, 1))]), types: OrderedDict([(x, tf.float64), (y, tf.int32)])>]\n",
            "OrderedDict([('sparse_categorical_accuracy', 0.300107), ('loss', 1.8526456)])\n",
            "OrderedDict([('sparse_categorical_accuracy', 0.451615), ('loss', 1.4105188)])\n",
            "OrderedDict([('sparse_categorical_accuracy', 0.593682), ('loss', 1.1744317)])\n",
            "OrderedDict([('sparse_categorical_accuracy', 0.645046), ('loss', 1.0606169)])\n",
            "OrderedDict([('sparse_categorical_accuracy', 0.684722), ('loss', 0.9793532)])\n",
            "##############################\n",
            "Monte Carlo Trial #  3\n",
            "<TensorSliceDataset shapes: ((2,), ()), types: (tf.float64, tf.int32)>\n",
            "<TensorSliceDataset shapes: ((2,), ()), types: (tf.float64, tf.int32)>\n",
            "<TensorSliceDataset shapes: ((2,), ()), types: (tf.float64, tf.int32)>\n",
            "<TensorSliceDataset shapes: ((2,), ()), types: (tf.float64, tf.int32)>\n",
            "<TensorSliceDataset shapes: ((2,), ()), types: (tf.float64, tf.int32)>\n",
            "[<PrefetchDataset shapes: OrderedDict([(x, (None, 1, 2)), (y, (None, 1))]), types: OrderedDict([(x, tf.float64), (y, tf.int32)])>]\n",
            "OrderedDict([('sparse_categorical_accuracy', 0.347616), ('loss', 1.9297538)])\n",
            "OrderedDict([('sparse_categorical_accuracy', 0.567519), ('loss', 1.4152228)])\n",
            "OrderedDict([('sparse_categorical_accuracy', 0.628049), ('loss', 1.1716331)])\n",
            "OrderedDict([('sparse_categorical_accuracy', 0.651823), ('loss', 1.0490603)])\n",
            "OrderedDict([('sparse_categorical_accuracy', 0.677334), ('loss', 0.9697304)])\n",
            "##############################\n",
            "Monte Carlo Trial #  4\n",
            "<TensorSliceDataset shapes: ((2,), ()), types: (tf.float64, tf.int32)>\n",
            "<TensorSliceDataset shapes: ((2,), ()), types: (tf.float64, tf.int32)>\n",
            "<TensorSliceDataset shapes: ((2,), ()), types: (tf.float64, tf.int32)>\n",
            "<TensorSliceDataset shapes: ((2,), ()), types: (tf.float64, tf.int32)>\n",
            "<TensorSliceDataset shapes: ((2,), ()), types: (tf.float64, tf.int32)>\n",
            "[<PrefetchDataset shapes: OrderedDict([(x, (None, 1, 2)), (y, (None, 1))]), types: OrderedDict([(x, tf.float64), (y, tf.int32)])>]\n",
            "OrderedDict([('sparse_categorical_accuracy', 0.380061), ('loss', 1.8236756)])\n",
            "OrderedDict([('sparse_categorical_accuracy', 0.552489), ('loss', 1.3912964)])\n",
            "OrderedDict([('sparse_categorical_accuracy', 0.626331), ('loss', 1.1952424)])\n",
            "OrderedDict([('sparse_categorical_accuracy', 0.647024), ('loss', 1.0930995)])\n",
            "OrderedDict([('sparse_categorical_accuracy', 0.660811), ('loss', 1.0364397)])\n",
            "##############################\n",
            "Monte Carlo Trial #  5\n",
            "<TensorSliceDataset shapes: ((2,), ()), types: (tf.float64, tf.int32)>\n",
            "<TensorSliceDataset shapes: ((2,), ()), types: (tf.float64, tf.int32)>\n",
            "<TensorSliceDataset shapes: ((2,), ()), types: (tf.float64, tf.int32)>\n",
            "<TensorSliceDataset shapes: ((2,), ()), types: (tf.float64, tf.int32)>\n",
            "<TensorSliceDataset shapes: ((2,), ()), types: (tf.float64, tf.int32)>\n",
            "[<PrefetchDataset shapes: OrderedDict([(x, (None, 1, 2)), (y, (None, 1))]), types: OrderedDict([(x, tf.float64), (y, tf.int32)])>]\n",
            "OrderedDict([('sparse_categorical_accuracy', 0.339121), ('loss', 2.0459578)])\n",
            "OrderedDict([('sparse_categorical_accuracy', 0.526188), ('loss', 1.4323446)])\n",
            "OrderedDict([('sparse_categorical_accuracy', 0.591319), ('loss', 1.1992872)])\n",
            "OrderedDict([('sparse_categorical_accuracy', 0.644681), ('loss', 1.0784914)])\n",
            "OrderedDict([('sparse_categorical_accuracy', 0.662321), ('loss', 0.9881497)])\n",
            "##############################\n",
            "Monte Carlo Trial #  6\n",
            "<TensorSliceDataset shapes: ((2,), ()), types: (tf.float64, tf.int32)>\n",
            "<TensorSliceDataset shapes: ((2,), ()), types: (tf.float64, tf.int32)>\n",
            "<TensorSliceDataset shapes: ((2,), ()), types: (tf.float64, tf.int32)>\n",
            "<TensorSliceDataset shapes: ((2,), ()), types: (tf.float64, tf.int32)>\n",
            "<TensorSliceDataset shapes: ((2,), ()), types: (tf.float64, tf.int32)>\n",
            "[<PrefetchDataset shapes: OrderedDict([(x, (None, 1, 2)), (y, (None, 1))]), types: OrderedDict([(x, tf.float64), (y, tf.int32)])>]\n",
            "OrderedDict([('sparse_categorical_accuracy', 0.287876), ('loss', 2.056809)])\n",
            "OrderedDict([('sparse_categorical_accuracy', 0.450523), ('loss', 1.6057961)])\n",
            "OrderedDict([('sparse_categorical_accuracy', 0.516918), ('loss', 1.3747325)])\n",
            "OrderedDict([('sparse_categorical_accuracy', 0.590919), ('loss', 1.2602639)])\n",
            "OrderedDict([('sparse_categorical_accuracy', 0.607977), ('loss', 1.1778588)])\n",
            "##############################\n",
            "Monte Carlo Trial #  7\n",
            "<TensorSliceDataset shapes: ((2,), ()), types: (tf.float64, tf.int32)>\n",
            "<TensorSliceDataset shapes: ((2,), ()), types: (tf.float64, tf.int32)>\n",
            "<TensorSliceDataset shapes: ((2,), ()), types: (tf.float64, tf.int32)>\n",
            "<TensorSliceDataset shapes: ((2,), ()), types: (tf.float64, tf.int32)>\n",
            "<TensorSliceDataset shapes: ((2,), ()), types: (tf.float64, tf.int32)>\n",
            "[<PrefetchDataset shapes: OrderedDict([(x, (None, 1, 2)), (y, (None, 1))]), types: OrderedDict([(x, tf.float64), (y, tf.int32)])>]\n",
            "OrderedDict([('sparse_categorical_accuracy', 0.287431), ('loss', 2.0963688)])\n",
            "OrderedDict([('sparse_categorical_accuracy', 0.492953), ('loss', 1.5427654)])\n",
            "OrderedDict([('sparse_categorical_accuracy', 0.608559), ('loss', 1.2198656)])\n",
            "OrderedDict([('sparse_categorical_accuracy', 0.669359), ('loss', 1.0632168)])\n",
            "OrderedDict([('sparse_categorical_accuracy', 0.672544), ('loss', 0.9895419)])\n",
            "##############################\n",
            "Monte Carlo Trial #  8\n",
            "<TensorSliceDataset shapes: ((2,), ()), types: (tf.float64, tf.int32)>\n",
            "<TensorSliceDataset shapes: ((2,), ()), types: (tf.float64, tf.int32)>\n",
            "<TensorSliceDataset shapes: ((2,), ()), types: (tf.float64, tf.int32)>\n",
            "<TensorSliceDataset shapes: ((2,), ()), types: (tf.float64, tf.int32)>\n",
            "<TensorSliceDataset shapes: ((2,), ()), types: (tf.float64, tf.int32)>\n",
            "[<PrefetchDataset shapes: OrderedDict([(x, (None, 1, 2)), (y, (None, 1))]), types: OrderedDict([(x, tf.float64), (y, tf.int32)])>]\n",
            "OrderedDict([('sparse_categorical_accuracy', 0.35436), ('loss', 1.967671)])\n",
            "OrderedDict([('sparse_categorical_accuracy', 0.50786), ('loss', 1.4524504)])\n",
            "OrderedDict([('sparse_categorical_accuracy', 0.608447), ('loss', 1.217874)])\n",
            "OrderedDict([('sparse_categorical_accuracy', 0.627315), ('loss', 1.0871038)])\n",
            "OrderedDict([('sparse_categorical_accuracy', 0.649627), ('loss', 1.004337)])\n",
            "##############################\n",
            "Monte Carlo Trial #  9\n",
            "<TensorSliceDataset shapes: ((2,), ()), types: (tf.float64, tf.int32)>\n",
            "<TensorSliceDataset shapes: ((2,), ()), types: (tf.float64, tf.int32)>\n",
            "<TensorSliceDataset shapes: ((2,), ()), types: (tf.float64, tf.int32)>\n",
            "<TensorSliceDataset shapes: ((2,), ()), types: (tf.float64, tf.int32)>\n",
            "<TensorSliceDataset shapes: ((2,), ()), types: (tf.float64, tf.int32)>\n",
            "[<PrefetchDataset shapes: OrderedDict([(x, (None, 1, 2)), (y, (None, 1))]), types: OrderedDict([(x, tf.float64), (y, tf.int32)])>]\n",
            "OrderedDict([('sparse_categorical_accuracy', 0.320513), ('loss', 1.9229616)])\n",
            "OrderedDict([('sparse_categorical_accuracy', 0.542502), ('loss', 1.411773)])\n",
            "OrderedDict([('sparse_categorical_accuracy', 0.635718), ('loss', 1.1804531)])\n",
            "OrderedDict([('sparse_categorical_accuracy', 0.64064), ('loss', 1.0569098)])\n",
            "OrderedDict([('sparse_categorical_accuracy', 0.66096), ('loss', 0.9966096)])\n",
            "##############################\n",
            "Monte Carlo Trial #  10\n",
            "<TensorSliceDataset shapes: ((2,), ()), types: (tf.float64, tf.int32)>\n",
            "<TensorSliceDataset shapes: ((2,), ()), types: (tf.float64, tf.int32)>\n",
            "<TensorSliceDataset shapes: ((2,), ()), types: (tf.float64, tf.int32)>\n",
            "<TensorSliceDataset shapes: ((2,), ()), types: (tf.float64, tf.int32)>\n",
            "<TensorSliceDataset shapes: ((2,), ()), types: (tf.float64, tf.int32)>\n",
            "[<PrefetchDataset shapes: OrderedDict([(x, (None, 1, 2)), (y, (None, 1))]), types: OrderedDict([(x, tf.float64), (y, tf.int32)])>]\n",
            "OrderedDict([('sparse_categorical_accuracy', 0.341315), ('loss', 1.8424774)])\n",
            "OrderedDict([('sparse_categorical_accuracy', 0.50773), ('loss', 1.3604678)])\n",
            "OrderedDict([('sparse_categorical_accuracy', 0.521389), ('loss', 1.232657)])\n",
            "OrderedDict([('sparse_categorical_accuracy', 0.608), ('loss', 1.1610407)])\n",
            "OrderedDict([('sparse_categorical_accuracy', 0.667239), ('loss', 1.075041)])\n",
            "##############################\n",
            "4QAM at Eb/N0= 5 dB\n",
            "FedRec trained collaboratively by  5 users\n",
            "non-iid  Rayleigh fading\n",
            "BER=  0.08477030098438262\n",
            "10\n",
            "WARNING:tensorflow:Please add `keras.layers.InputLayer` instead of `keras.Input` to Sequential model. `keras.Input` is intended to be used by Functional model.\n"
          ],
          "name": "stdout"
        },
        {
          "output_type": "stream",
          "text": [
            "WARNING:tensorflow:Please add `keras.layers.InputLayer` instead of `keras.Input` to Sequential model. `keras.Input` is intended to be used by Functional model.\n"
          ],
          "name": "stderr"
        },
        {
          "output_type": "stream",
          "text": [
            "WARNING:tensorflow:Layer lstm will not use cuDNN kernels since it doesn't meet the criteria. It will use a generic GPU kernel as fallback when running on GPU.\n"
          ],
          "name": "stdout"
        },
        {
          "output_type": "stream",
          "text": [
            "WARNING:tensorflow:Layer lstm will not use cuDNN kernels since it doesn't meet the criteria. It will use a generic GPU kernel as fallback when running on GPU.\n"
          ],
          "name": "stderr"
        },
        {
          "output_type": "stream",
          "text": [
            "WARNING:tensorflow:Please add `keras.layers.InputLayer` instead of `keras.Input` to Sequential model. `keras.Input` is intended to be used by Functional model.\n"
          ],
          "name": "stdout"
        },
        {
          "output_type": "stream",
          "text": [
            "WARNING:tensorflow:Please add `keras.layers.InputLayer` instead of `keras.Input` to Sequential model. `keras.Input` is intended to be used by Functional model.\n"
          ],
          "name": "stderr"
        },
        {
          "output_type": "stream",
          "text": [
            "WARNING:tensorflow:Layer lstm will not use cuDNN kernels since it doesn't meet the criteria. It will use a generic GPU kernel as fallback when running on GPU.\n"
          ],
          "name": "stdout"
        },
        {
          "output_type": "stream",
          "text": [
            "WARNING:tensorflow:Layer lstm will not use cuDNN kernels since it doesn't meet the criteria. It will use a generic GPU kernel as fallback when running on GPU.\n"
          ],
          "name": "stderr"
        },
        {
          "output_type": "stream",
          "text": [
            "WARNING:tensorflow:Please add `keras.layers.InputLayer` instead of `keras.Input` to Sequential model. `keras.Input` is intended to be used by Functional model.\n"
          ],
          "name": "stdout"
        },
        {
          "output_type": "stream",
          "text": [
            "WARNING:tensorflow:Please add `keras.layers.InputLayer` instead of `keras.Input` to Sequential model. `keras.Input` is intended to be used by Functional model.\n"
          ],
          "name": "stderr"
        },
        {
          "output_type": "stream",
          "text": [
            "WARNING:tensorflow:Layer lstm will not use cuDNN kernels since it doesn't meet the criteria. It will use a generic GPU kernel as fallback when running on GPU.\n"
          ],
          "name": "stdout"
        },
        {
          "output_type": "stream",
          "text": [
            "WARNING:tensorflow:Layer lstm will not use cuDNN kernels since it doesn't meet the criteria. It will use a generic GPU kernel as fallback when running on GPU.\n"
          ],
          "name": "stderr"
        },
        {
          "output_type": "stream",
          "text": [
            "WARNING:tensorflow:Please add `keras.layers.InputLayer` instead of `keras.Input` to Sequential model. `keras.Input` is intended to be used by Functional model.\n"
          ],
          "name": "stdout"
        },
        {
          "output_type": "stream",
          "text": [
            "WARNING:tensorflow:Please add `keras.layers.InputLayer` instead of `keras.Input` to Sequential model. `keras.Input` is intended to be used by Functional model.\n"
          ],
          "name": "stderr"
        },
        {
          "output_type": "stream",
          "text": [
            "WARNING:tensorflow:Layer lstm will not use cuDNN kernels since it doesn't meet the criteria. It will use a generic GPU kernel as fallback when running on GPU.\n"
          ],
          "name": "stdout"
        },
        {
          "output_type": "stream",
          "text": [
            "WARNING:tensorflow:Layer lstm will not use cuDNN kernels since it doesn't meet the criteria. It will use a generic GPU kernel as fallback when running on GPU.\n"
          ],
          "name": "stderr"
        },
        {
          "output_type": "stream",
          "text": [
            "WARNING:tensorflow:Please add `keras.layers.InputLayer` instead of `keras.Input` to Sequential model. `keras.Input` is intended to be used by Functional model.\n"
          ],
          "name": "stdout"
        },
        {
          "output_type": "stream",
          "text": [
            "WARNING:tensorflow:Please add `keras.layers.InputLayer` instead of `keras.Input` to Sequential model. `keras.Input` is intended to be used by Functional model.\n"
          ],
          "name": "stderr"
        },
        {
          "output_type": "stream",
          "text": [
            "WARNING:tensorflow:Layer lstm will not use cuDNN kernels since it doesn't meet the criteria. It will use a generic GPU kernel as fallback when running on GPU.\n"
          ],
          "name": "stdout"
        },
        {
          "output_type": "stream",
          "text": [
            "WARNING:tensorflow:Layer lstm will not use cuDNN kernels since it doesn't meet the criteria. It will use a generic GPU kernel as fallback when running on GPU.\n"
          ],
          "name": "stderr"
        },
        {
          "output_type": "stream",
          "text": [
            "WARNING:tensorflow:Please add `keras.layers.InputLayer` instead of `keras.Input` to Sequential model. `keras.Input` is intended to be used by Functional model.\n"
          ],
          "name": "stdout"
        },
        {
          "output_type": "stream",
          "text": [
            "WARNING:tensorflow:Please add `keras.layers.InputLayer` instead of `keras.Input` to Sequential model. `keras.Input` is intended to be used by Functional model.\n"
          ],
          "name": "stderr"
        },
        {
          "output_type": "stream",
          "text": [
            "WARNING:tensorflow:Layer lstm will not use cuDNN kernels since it doesn't meet the criteria. It will use a generic GPU kernel as fallback when running on GPU.\n"
          ],
          "name": "stdout"
        },
        {
          "output_type": "stream",
          "text": [
            "WARNING:tensorflow:Layer lstm will not use cuDNN kernels since it doesn't meet the criteria. It will use a generic GPU kernel as fallback when running on GPU.\n"
          ],
          "name": "stderr"
        },
        {
          "output_type": "stream",
          "text": [
            "<tensorflow_federated.python.core.impl.computation.computation_impl.ComputationImpl object at 0x7f65c27cce10>\n",
            "##############################\n",
            "Monte Carlo Trial #  1\n",
            "<TensorSliceDataset shapes: ((2,), ()), types: (tf.float64, tf.int32)>\n",
            "<TensorSliceDataset shapes: ((2,), ()), types: (tf.float64, tf.int32)>\n",
            "<TensorSliceDataset shapes: ((2,), ()), types: (tf.float64, tf.int32)>\n",
            "<TensorSliceDataset shapes: ((2,), ()), types: (tf.float64, tf.int32)>\n",
            "<TensorSliceDataset shapes: ((2,), ()), types: (tf.float64, tf.int32)>\n",
            "<TensorSliceDataset shapes: ((2,), ()), types: (tf.float64, tf.int32)>\n",
            "<TensorSliceDataset shapes: ((2,), ()), types: (tf.float64, tf.int32)>\n",
            "<TensorSliceDataset shapes: ((2,), ()), types: (tf.float64, tf.int32)>\n",
            "<TensorSliceDataset shapes: ((2,), ()), types: (tf.float64, tf.int32)>\n",
            "<TensorSliceDataset shapes: ((2,), ()), types: (tf.float64, tf.int32)>\n",
            "[<PrefetchDataset shapes: OrderedDict([(x, (None, 1, 2)), (y, (None, 1))]), types: OrderedDict([(x, tf.float64), (y, tf.int32)])>]\n",
            "OrderedDict([('sparse_categorical_accuracy', 0.169271), ('loss', 2.4070578)])\n",
            "OrderedDict([('sparse_categorical_accuracy', 0.301922), ('loss', 2.070186)])\n",
            "OrderedDict([('sparse_categorical_accuracy', 0.305198), ('loss', 1.870232)])\n",
            "OrderedDict([('sparse_categorical_accuracy', 0.419397), ('loss', 1.715358)])\n",
            "OrderedDict([('sparse_categorical_accuracy', 0.459294), ('loss', 1.6051179)])\n",
            "##############################\n",
            "Monte Carlo Trial #  2\n",
            "<TensorSliceDataset shapes: ((2,), ()), types: (tf.float64, tf.int32)>\n",
            "<TensorSliceDataset shapes: ((2,), ()), types: (tf.float64, tf.int32)>\n",
            "<TensorSliceDataset shapes: ((2,), ()), types: (tf.float64, tf.int32)>\n",
            "<TensorSliceDataset shapes: ((2,), ()), types: (tf.float64, tf.int32)>\n",
            "<TensorSliceDataset shapes: ((2,), ()), types: (tf.float64, tf.int32)>\n",
            "<TensorSliceDataset shapes: ((2,), ()), types: (tf.float64, tf.int32)>\n",
            "<TensorSliceDataset shapes: ((2,), ()), types: (tf.float64, tf.int32)>\n",
            "<TensorSliceDataset shapes: ((2,), ()), types: (tf.float64, tf.int32)>\n",
            "<TensorSliceDataset shapes: ((2,), ()), types: (tf.float64, tf.int32)>\n",
            "<TensorSliceDataset shapes: ((2,), ()), types: (tf.float64, tf.int32)>\n",
            "[<PrefetchDataset shapes: OrderedDict([(x, (None, 1, 2)), (y, (None, 1))]), types: OrderedDict([(x, tf.float64), (y, tf.int32)])>]\n",
            "OrderedDict([('sparse_categorical_accuracy', 0.215286), ('loss', 2.357352)])\n",
            "OrderedDict([('sparse_categorical_accuracy', 0.298218), ('loss', 1.8879924)])\n",
            "OrderedDict([('sparse_categorical_accuracy', 0.461524), ('loss', 1.6218172)])\n",
            "OrderedDict([('sparse_categorical_accuracy', 0.560556), ('loss', 1.4207892)])\n",
            "OrderedDict([('sparse_categorical_accuracy', 0.586764), ('loss', 1.2513709)])\n",
            "##############################\n",
            "Monte Carlo Trial #  3\n",
            "<TensorSliceDataset shapes: ((2,), ()), types: (tf.float64, tf.int32)>\n",
            "<TensorSliceDataset shapes: ((2,), ()), types: (tf.float64, tf.int32)>\n",
            "<TensorSliceDataset shapes: ((2,), ()), types: (tf.float64, tf.int32)>\n",
            "<TensorSliceDataset shapes: ((2,), ()), types: (tf.float64, tf.int32)>\n",
            "<TensorSliceDataset shapes: ((2,), ()), types: (tf.float64, tf.int32)>\n",
            "<TensorSliceDataset shapes: ((2,), ()), types: (tf.float64, tf.int32)>\n",
            "<TensorSliceDataset shapes: ((2,), ()), types: (tf.float64, tf.int32)>\n",
            "<TensorSliceDataset shapes: ((2,), ()), types: (tf.float64, tf.int32)>\n",
            "<TensorSliceDataset shapes: ((2,), ()), types: (tf.float64, tf.int32)>\n",
            "<TensorSliceDataset shapes: ((2,), ()), types: (tf.float64, tf.int32)>\n",
            "[<PrefetchDataset shapes: OrderedDict([(x, (None, 1, 2)), (y, (None, 1))]), types: OrderedDict([(x, tf.float64), (y, tf.int32)])>]\n",
            "OrderedDict([('sparse_categorical_accuracy', 0.268911), ('loss', 2.321508)])\n",
            "OrderedDict([('sparse_categorical_accuracy', 0.444927), ('loss', 1.871425)])\n",
            "OrderedDict([('sparse_categorical_accuracy', 0.528667), ('loss', 1.5698017)])\n",
            "OrderedDict([('sparse_categorical_accuracy', 0.541283), ('loss', 1.3696243)])\n",
            "OrderedDict([('sparse_categorical_accuracy', 0.581251), ('loss', 1.2436161)])\n",
            "##############################\n",
            "Monte Carlo Trial #  4\n",
            "<TensorSliceDataset shapes: ((2,), ()), types: (tf.float64, tf.int32)>\n",
            "<TensorSliceDataset shapes: ((2,), ()), types: (tf.float64, tf.int32)>\n",
            "<TensorSliceDataset shapes: ((2,), ()), types: (tf.float64, tf.int32)>\n",
            "<TensorSliceDataset shapes: ((2,), ()), types: (tf.float64, tf.int32)>\n",
            "<TensorSliceDataset shapes: ((2,), ()), types: (tf.float64, tf.int32)>\n",
            "<TensorSliceDataset shapes: ((2,), ()), types: (tf.float64, tf.int32)>\n",
            "<TensorSliceDataset shapes: ((2,), ()), types: (tf.float64, tf.int32)>\n",
            "<TensorSliceDataset shapes: ((2,), ()), types: (tf.float64, tf.int32)>\n",
            "<TensorSliceDataset shapes: ((2,), ()), types: (tf.float64, tf.int32)>\n",
            "<TensorSliceDataset shapes: ((2,), ()), types: (tf.float64, tf.int32)>\n",
            "[<PrefetchDataset shapes: OrderedDict([(x, (None, 1, 2)), (y, (None, 1))]), types: OrderedDict([(x, tf.float64), (y, tf.int32)])>]\n",
            "OrderedDict([('sparse_categorical_accuracy', 0.303567), ('loss', 2.3348744)])\n",
            "OrderedDict([('sparse_categorical_accuracy', 0.369796), ('loss', 1.8352149)])\n",
            "OrderedDict([('sparse_categorical_accuracy', 0.460557), ('loss', 1.5277462)])\n",
            "OrderedDict([('sparse_categorical_accuracy', 0.546211), ('loss', 1.3508747)])\n",
            "OrderedDict([('sparse_categorical_accuracy', 0.599252), ('loss', 1.234307)])\n",
            "##############################\n",
            "Monte Carlo Trial #  5\n",
            "<TensorSliceDataset shapes: ((2,), ()), types: (tf.float64, tf.int32)>\n",
            "<TensorSliceDataset shapes: ((2,), ()), types: (tf.float64, tf.int32)>\n",
            "<TensorSliceDataset shapes: ((2,), ()), types: (tf.float64, tf.int32)>\n",
            "<TensorSliceDataset shapes: ((2,), ()), types: (tf.float64, tf.int32)>\n",
            "<TensorSliceDataset shapes: ((2,), ()), types: (tf.float64, tf.int32)>\n",
            "<TensorSliceDataset shapes: ((2,), ()), types: (tf.float64, tf.int32)>\n",
            "<TensorSliceDataset shapes: ((2,), ()), types: (tf.float64, tf.int32)>\n",
            "<TensorSliceDataset shapes: ((2,), ()), types: (tf.float64, tf.int32)>\n",
            "<TensorSliceDataset shapes: ((2,), ()), types: (tf.float64, tf.int32)>\n",
            "<TensorSliceDataset shapes: ((2,), ()), types: (tf.float64, tf.int32)>\n",
            "[<PrefetchDataset shapes: OrderedDict([(x, (None, 1, 2)), (y, (None, 1))]), types: OrderedDict([(x, tf.float64), (y, tf.int32)])>]\n",
            "OrderedDict([('sparse_categorical_accuracy', 0.126372), ('loss', 2.551021)])\n",
            "OrderedDict([('sparse_categorical_accuracy', 0.199564), ('loss', 2.1914752)])\n",
            "OrderedDict([('sparse_categorical_accuracy', 0.410493), ('loss', 1.9022446)])\n",
            "OrderedDict([('sparse_categorical_accuracy', 0.430181), ('loss', 1.6343133)])\n",
            "OrderedDict([('sparse_categorical_accuracy', 0.520171), ('loss', 1.4379492)])\n",
            "##############################\n",
            "Monte Carlo Trial #  6\n",
            "<TensorSliceDataset shapes: ((2,), ()), types: (tf.float64, tf.int32)>\n",
            "<TensorSliceDataset shapes: ((2,), ()), types: (tf.float64, tf.int32)>\n",
            "<TensorSliceDataset shapes: ((2,), ()), types: (tf.float64, tf.int32)>\n",
            "<TensorSliceDataset shapes: ((2,), ()), types: (tf.float64, tf.int32)>\n",
            "<TensorSliceDataset shapes: ((2,), ()), types: (tf.float64, tf.int32)>\n",
            "<TensorSliceDataset shapes: ((2,), ()), types: (tf.float64, tf.int32)>\n",
            "<TensorSliceDataset shapes: ((2,), ()), types: (tf.float64, tf.int32)>\n",
            "<TensorSliceDataset shapes: ((2,), ()), types: (tf.float64, tf.int32)>\n",
            "<TensorSliceDataset shapes: ((2,), ()), types: (tf.float64, tf.int32)>\n",
            "<TensorSliceDataset shapes: ((2,), ()), types: (tf.float64, tf.int32)>\n",
            "[<PrefetchDataset shapes: OrderedDict([(x, (None, 1, 2)), (y, (None, 1))]), types: OrderedDict([(x, tf.float64), (y, tf.int32)])>]\n",
            "OrderedDict([('sparse_categorical_accuracy', 0.221903), ('loss', 2.369013)])\n",
            "OrderedDict([('sparse_categorical_accuracy', 0.413186), ('loss', 1.923121)])\n",
            "OrderedDict([('sparse_categorical_accuracy', 0.480113), ('loss', 1.5752668)])\n",
            "OrderedDict([('sparse_categorical_accuracy', 0.531931), ('loss', 1.34086)])\n",
            "OrderedDict([('sparse_categorical_accuracy', 0.581272), ('loss', 1.2091602)])\n",
            "##############################\n",
            "Monte Carlo Trial #  7\n",
            "<TensorSliceDataset shapes: ((2,), ()), types: (tf.float64, tf.int32)>\n",
            "<TensorSliceDataset shapes: ((2,), ()), types: (tf.float64, tf.int32)>\n",
            "<TensorSliceDataset shapes: ((2,), ()), types: (tf.float64, tf.int32)>\n",
            "<TensorSliceDataset shapes: ((2,), ()), types: (tf.float64, tf.int32)>\n",
            "<TensorSliceDataset shapes: ((2,), ()), types: (tf.float64, tf.int32)>\n",
            "<TensorSliceDataset shapes: ((2,), ()), types: (tf.float64, tf.int32)>\n",
            "<TensorSliceDataset shapes: ((2,), ()), types: (tf.float64, tf.int32)>\n",
            "<TensorSliceDataset shapes: ((2,), ()), types: (tf.float64, tf.int32)>\n",
            "<TensorSliceDataset shapes: ((2,), ()), types: (tf.float64, tf.int32)>\n",
            "<TensorSliceDataset shapes: ((2,), ()), types: (tf.float64, tf.int32)>\n",
            "[<PrefetchDataset shapes: OrderedDict([(x, (None, 1, 2)), (y, (None, 1))]), types: OrderedDict([(x, tf.float64), (y, tf.int32)])>]\n",
            "OrderedDict([('sparse_categorical_accuracy', 0.212099), ('loss', 2.4174552)])\n",
            "OrderedDict([('sparse_categorical_accuracy', 0.31997), ('loss', 1.9450088)])\n",
            "OrderedDict([('sparse_categorical_accuracy', 0.49219), ('loss', 1.5883592)])\n",
            "OrderedDict([('sparse_categorical_accuracy', 0.582971), ('loss', 1.3675328)])\n",
            "OrderedDict([('sparse_categorical_accuracy', 0.609304), ('loss', 1.2499849)])\n",
            "##############################\n",
            "Monte Carlo Trial #  8\n",
            "<TensorSliceDataset shapes: ((2,), ()), types: (tf.float64, tf.int32)>\n",
            "<TensorSliceDataset shapes: ((2,), ()), types: (tf.float64, tf.int32)>\n",
            "<TensorSliceDataset shapes: ((2,), ()), types: (tf.float64, tf.int32)>\n",
            "<TensorSliceDataset shapes: ((2,), ()), types: (tf.float64, tf.int32)>\n",
            "<TensorSliceDataset shapes: ((2,), ()), types: (tf.float64, tf.int32)>\n",
            "<TensorSliceDataset shapes: ((2,), ()), types: (tf.float64, tf.int32)>\n",
            "<TensorSliceDataset shapes: ((2,), ()), types: (tf.float64, tf.int32)>\n",
            "<TensorSliceDataset shapes: ((2,), ()), types: (tf.float64, tf.int32)>\n",
            "<TensorSliceDataset shapes: ((2,), ()), types: (tf.float64, tf.int32)>\n",
            "<TensorSliceDataset shapes: ((2,), ()), types: (tf.float64, tf.int32)>\n",
            "[<PrefetchDataset shapes: OrderedDict([(x, (None, 1, 2)), (y, (None, 1))]), types: OrderedDict([(x, tf.float64), (y, tf.int32)])>]\n",
            "OrderedDict([('sparse_categorical_accuracy', 0.173393), ('loss', 2.4663544)])\n",
            "OrderedDict([('sparse_categorical_accuracy', 0.406562), ('loss', 2.0541875)])\n",
            "OrderedDict([('sparse_categorical_accuracy', 0.47428), ('loss', 1.724677)])\n",
            "OrderedDict([('sparse_categorical_accuracy', 0.535502), ('loss', 1.481721)])\n",
            "OrderedDict([('sparse_categorical_accuracy', 0.601597), ('loss', 1.3258538)])\n",
            "##############################\n",
            "Monte Carlo Trial #  9\n",
            "<TensorSliceDataset shapes: ((2,), ()), types: (tf.float64, tf.int32)>\n",
            "<TensorSliceDataset shapes: ((2,), ()), types: (tf.float64, tf.int32)>\n",
            "<TensorSliceDataset shapes: ((2,), ()), types: (tf.float64, tf.int32)>\n",
            "<TensorSliceDataset shapes: ((2,), ()), types: (tf.float64, tf.int32)>\n",
            "<TensorSliceDataset shapes: ((2,), ()), types: (tf.float64, tf.int32)>\n",
            "<TensorSliceDataset shapes: ((2,), ()), types: (tf.float64, tf.int32)>\n",
            "<TensorSliceDataset shapes: ((2,), ()), types: (tf.float64, tf.int32)>\n",
            "<TensorSliceDataset shapes: ((2,), ()), types: (tf.float64, tf.int32)>\n",
            "<TensorSliceDataset shapes: ((2,), ()), types: (tf.float64, tf.int32)>\n",
            "<TensorSliceDataset shapes: ((2,), ()), types: (tf.float64, tf.int32)>\n",
            "[<PrefetchDataset shapes: OrderedDict([(x, (None, 1, 2)), (y, (None, 1))]), types: OrderedDict([(x, tf.float64), (y, tf.int32)])>]\n",
            "OrderedDict([('sparse_categorical_accuracy', 0.154561), ('loss', 2.5567472)])\n",
            "OrderedDict([('sparse_categorical_accuracy', 0.272254), ('loss', 2.079029)])\n",
            "OrderedDict([('sparse_categorical_accuracy', 0.429349), ('loss', 1.7278224)])\n",
            "OrderedDict([('sparse_categorical_accuracy', 0.49953), ('loss', 1.4966313)])\n",
            "OrderedDict([('sparse_categorical_accuracy', 0.55852), ('loss', 1.3339584)])\n",
            "##############################\n",
            "Monte Carlo Trial #  10\n",
            "<TensorSliceDataset shapes: ((2,), ()), types: (tf.float64, tf.int32)>\n",
            "<TensorSliceDataset shapes: ((2,), ()), types: (tf.float64, tf.int32)>\n",
            "<TensorSliceDataset shapes: ((2,), ()), types: (tf.float64, tf.int32)>\n",
            "<TensorSliceDataset shapes: ((2,), ()), types: (tf.float64, tf.int32)>\n",
            "<TensorSliceDataset shapes: ((2,), ()), types: (tf.float64, tf.int32)>\n",
            "<TensorSliceDataset shapes: ((2,), ()), types: (tf.float64, tf.int32)>\n",
            "<TensorSliceDataset shapes: ((2,), ()), types: (tf.float64, tf.int32)>\n",
            "<TensorSliceDataset shapes: ((2,), ()), types: (tf.float64, tf.int32)>\n",
            "<TensorSliceDataset shapes: ((2,), ()), types: (tf.float64, tf.int32)>\n",
            "<TensorSliceDataset shapes: ((2,), ()), types: (tf.float64, tf.int32)>\n",
            "[<PrefetchDataset shapes: OrderedDict([(x, (None, 1, 2)), (y, (None, 1))]), types: OrderedDict([(x, tf.float64), (y, tf.int32)])>]\n",
            "OrderedDict([('sparse_categorical_accuracy', 0.26064), ('loss', 2.4141755)])\n",
            "OrderedDict([('sparse_categorical_accuracy', 0.367805), ('loss', 1.9330384)])\n",
            "OrderedDict([('sparse_categorical_accuracy', 0.39674), ('loss', 1.6192899)])\n",
            "OrderedDict([('sparse_categorical_accuracy', 0.456037), ('loss', 1.4169191)])\n",
            "OrderedDict([('sparse_categorical_accuracy', 0.516719), ('loss', 1.2697225)])\n",
            "##############################\n",
            "4QAM at Eb/N0= 5 dB\n",
            "FedRec trained collaboratively by  10 users\n",
            "non-iid  Rayleigh fading\n",
            "BER=  0.10964640006422995\n",
            "100\n",
            "WARNING:tensorflow:Please add `keras.layers.InputLayer` instead of `keras.Input` to Sequential model. `keras.Input` is intended to be used by Functional model.\n"
          ],
          "name": "stdout"
        },
        {
          "output_type": "stream",
          "text": [
            "WARNING:tensorflow:Please add `keras.layers.InputLayer` instead of `keras.Input` to Sequential model. `keras.Input` is intended to be used by Functional model.\n"
          ],
          "name": "stderr"
        },
        {
          "output_type": "stream",
          "text": [
            "WARNING:tensorflow:Layer lstm will not use cuDNN kernels since it doesn't meet the criteria. It will use a generic GPU kernel as fallback when running on GPU.\n"
          ],
          "name": "stdout"
        },
        {
          "output_type": "stream",
          "text": [
            "WARNING:tensorflow:Layer lstm will not use cuDNN kernels since it doesn't meet the criteria. It will use a generic GPU kernel as fallback when running on GPU.\n"
          ],
          "name": "stderr"
        },
        {
          "output_type": "stream",
          "text": [
            "WARNING:tensorflow:Please add `keras.layers.InputLayer` instead of `keras.Input` to Sequential model. `keras.Input` is intended to be used by Functional model.\n"
          ],
          "name": "stdout"
        },
        {
          "output_type": "stream",
          "text": [
            "WARNING:tensorflow:Please add `keras.layers.InputLayer` instead of `keras.Input` to Sequential model. `keras.Input` is intended to be used by Functional model.\n"
          ],
          "name": "stderr"
        },
        {
          "output_type": "stream",
          "text": [
            "WARNING:tensorflow:Layer lstm will not use cuDNN kernels since it doesn't meet the criteria. It will use a generic GPU kernel as fallback when running on GPU.\n"
          ],
          "name": "stdout"
        },
        {
          "output_type": "stream",
          "text": [
            "WARNING:tensorflow:Layer lstm will not use cuDNN kernels since it doesn't meet the criteria. It will use a generic GPU kernel as fallback when running on GPU.\n"
          ],
          "name": "stderr"
        },
        {
          "output_type": "stream",
          "text": [
            "WARNING:tensorflow:Please add `keras.layers.InputLayer` instead of `keras.Input` to Sequential model. `keras.Input` is intended to be used by Functional model.\n"
          ],
          "name": "stdout"
        },
        {
          "output_type": "stream",
          "text": [
            "WARNING:tensorflow:Please add `keras.layers.InputLayer` instead of `keras.Input` to Sequential model. `keras.Input` is intended to be used by Functional model.\n"
          ],
          "name": "stderr"
        },
        {
          "output_type": "stream",
          "text": [
            "WARNING:tensorflow:Layer lstm will not use cuDNN kernels since it doesn't meet the criteria. It will use a generic GPU kernel as fallback when running on GPU.\n"
          ],
          "name": "stdout"
        },
        {
          "output_type": "stream",
          "text": [
            "WARNING:tensorflow:Layer lstm will not use cuDNN kernels since it doesn't meet the criteria. It will use a generic GPU kernel as fallback when running on GPU.\n"
          ],
          "name": "stderr"
        },
        {
          "output_type": "stream",
          "text": [
            "WARNING:tensorflow:Please add `keras.layers.InputLayer` instead of `keras.Input` to Sequential model. `keras.Input` is intended to be used by Functional model.\n"
          ],
          "name": "stdout"
        },
        {
          "output_type": "stream",
          "text": [
            "WARNING:tensorflow:Please add `keras.layers.InputLayer` instead of `keras.Input` to Sequential model. `keras.Input` is intended to be used by Functional model.\n"
          ],
          "name": "stderr"
        },
        {
          "output_type": "stream",
          "text": [
            "WARNING:tensorflow:Layer lstm will not use cuDNN kernels since it doesn't meet the criteria. It will use a generic GPU kernel as fallback when running on GPU.\n"
          ],
          "name": "stdout"
        },
        {
          "output_type": "stream",
          "text": [
            "WARNING:tensorflow:Layer lstm will not use cuDNN kernels since it doesn't meet the criteria. It will use a generic GPU kernel as fallback when running on GPU.\n"
          ],
          "name": "stderr"
        },
        {
          "output_type": "stream",
          "text": [
            "WARNING:tensorflow:Please add `keras.layers.InputLayer` instead of `keras.Input` to Sequential model. `keras.Input` is intended to be used by Functional model.\n"
          ],
          "name": "stdout"
        },
        {
          "output_type": "stream",
          "text": [
            "WARNING:tensorflow:Please add `keras.layers.InputLayer` instead of `keras.Input` to Sequential model. `keras.Input` is intended to be used by Functional model.\n"
          ],
          "name": "stderr"
        },
        {
          "output_type": "stream",
          "text": [
            "WARNING:tensorflow:Layer lstm will not use cuDNN kernels since it doesn't meet the criteria. It will use a generic GPU kernel as fallback when running on GPU.\n"
          ],
          "name": "stdout"
        },
        {
          "output_type": "stream",
          "text": [
            "WARNING:tensorflow:Layer lstm will not use cuDNN kernels since it doesn't meet the criteria. It will use a generic GPU kernel as fallback when running on GPU.\n"
          ],
          "name": "stderr"
        },
        {
          "output_type": "stream",
          "text": [
            "WARNING:tensorflow:Please add `keras.layers.InputLayer` instead of `keras.Input` to Sequential model. `keras.Input` is intended to be used by Functional model.\n"
          ],
          "name": "stdout"
        },
        {
          "output_type": "stream",
          "text": [
            "WARNING:tensorflow:Please add `keras.layers.InputLayer` instead of `keras.Input` to Sequential model. `keras.Input` is intended to be used by Functional model.\n"
          ],
          "name": "stderr"
        },
        {
          "output_type": "stream",
          "text": [
            "WARNING:tensorflow:Layer lstm will not use cuDNN kernels since it doesn't meet the criteria. It will use a generic GPU kernel as fallback when running on GPU.\n"
          ],
          "name": "stdout"
        },
        {
          "output_type": "stream",
          "text": [
            "WARNING:tensorflow:Layer lstm will not use cuDNN kernels since it doesn't meet the criteria. It will use a generic GPU kernel as fallback when running on GPU.\n"
          ],
          "name": "stderr"
        },
        {
          "output_type": "stream",
          "text": [
            "<tensorflow_federated.python.core.impl.computation.computation_impl.ComputationImpl object at 0x7f65c276c3d0>\n",
            "##############################\n",
            "Monte Carlo Trial #  1\n",
            "<TensorSliceDataset shapes: ((2,), ()), types: (tf.float64, tf.int32)>\n",
            "<TensorSliceDataset shapes: ((2,), ()), types: (tf.float64, tf.int32)>\n",
            "<TensorSliceDataset shapes: ((2,), ()), types: (tf.float64, tf.int32)>\n",
            "<TensorSliceDataset shapes: ((2,), ()), types: (tf.float64, tf.int32)>\n",
            "<TensorSliceDataset shapes: ((2,), ()), types: (tf.float64, tf.int32)>\n",
            "<TensorSliceDataset shapes: ((2,), ()), types: (tf.float64, tf.int32)>\n",
            "<TensorSliceDataset shapes: ((2,), ()), types: (tf.float64, tf.int32)>\n",
            "<TensorSliceDataset shapes: ((2,), ()), types: (tf.float64, tf.int32)>\n",
            "<TensorSliceDataset shapes: ((2,), ()), types: (tf.float64, tf.int32)>\n",
            "<TensorSliceDataset shapes: ((2,), ()), types: (tf.float64, tf.int32)>\n",
            "<TensorSliceDataset shapes: ((2,), ()), types: (tf.float64, tf.int32)>\n",
            "<TensorSliceDataset shapes: ((2,), ()), types: (tf.float64, tf.int32)>\n",
            "<TensorSliceDataset shapes: ((2,), ()), types: (tf.float64, tf.int32)>\n",
            "<TensorSliceDataset shapes: ((2,), ()), types: (tf.float64, tf.int32)>\n",
            "<TensorSliceDataset shapes: ((2,), ()), types: (tf.float64, tf.int32)>\n",
            "<TensorSliceDataset shapes: ((2,), ()), types: (tf.float64, tf.int32)>\n",
            "<TensorSliceDataset shapes: ((2,), ()), types: (tf.float64, tf.int32)>\n",
            "<TensorSliceDataset shapes: ((2,), ()), types: (tf.float64, tf.int32)>\n",
            "<TensorSliceDataset shapes: ((2,), ()), types: (tf.float64, tf.int32)>\n",
            "<TensorSliceDataset shapes: ((2,), ()), types: (tf.float64, tf.int32)>\n",
            "<TensorSliceDataset shapes: ((2,), ()), types: (tf.float64, tf.int32)>\n",
            "<TensorSliceDataset shapes: ((2,), ()), types: (tf.float64, tf.int32)>\n",
            "<TensorSliceDataset shapes: ((2,), ()), types: (tf.float64, tf.int32)>\n",
            "<TensorSliceDataset shapes: ((2,), ()), types: (tf.float64, tf.int32)>\n",
            "<TensorSliceDataset shapes: ((2,), ()), types: (tf.float64, tf.int32)>\n",
            "<TensorSliceDataset shapes: ((2,), ()), types: (tf.float64, tf.int32)>\n",
            "<TensorSliceDataset shapes: ((2,), ()), types: (tf.float64, tf.int32)>\n",
            "<TensorSliceDataset shapes: ((2,), ()), types: (tf.float64, tf.int32)>\n",
            "<TensorSliceDataset shapes: ((2,), ()), types: (tf.float64, tf.int32)>\n",
            "<TensorSliceDataset shapes: ((2,), ()), types: (tf.float64, tf.int32)>\n",
            "<TensorSliceDataset shapes: ((2,), ()), types: (tf.float64, tf.int32)>\n",
            "<TensorSliceDataset shapes: ((2,), ()), types: (tf.float64, tf.int32)>\n",
            "<TensorSliceDataset shapes: ((2,), ()), types: (tf.float64, tf.int32)>\n",
            "<TensorSliceDataset shapes: ((2,), ()), types: (tf.float64, tf.int32)>\n",
            "<TensorSliceDataset shapes: ((2,), ()), types: (tf.float64, tf.int32)>\n",
            "<TensorSliceDataset shapes: ((2,), ()), types: (tf.float64, tf.int32)>\n",
            "<TensorSliceDataset shapes: ((2,), ()), types: (tf.float64, tf.int32)>\n",
            "<TensorSliceDataset shapes: ((2,), ()), types: (tf.float64, tf.int32)>\n",
            "<TensorSliceDataset shapes: ((2,), ()), types: (tf.float64, tf.int32)>\n",
            "<TensorSliceDataset shapes: ((2,), ()), types: (tf.float64, tf.int32)>\n",
            "<TensorSliceDataset shapes: ((2,), ()), types: (tf.float64, tf.int32)>\n",
            "<TensorSliceDataset shapes: ((2,), ()), types: (tf.float64, tf.int32)>\n",
            "<TensorSliceDataset shapes: ((2,), ()), types: (tf.float64, tf.int32)>\n",
            "<TensorSliceDataset shapes: ((2,), ()), types: (tf.float64, tf.int32)>\n",
            "<TensorSliceDataset shapes: ((2,), ()), types: (tf.float64, tf.int32)>\n",
            "<TensorSliceDataset shapes: ((2,), ()), types: (tf.float64, tf.int32)>\n",
            "<TensorSliceDataset shapes: ((2,), ()), types: (tf.float64, tf.int32)>\n",
            "<TensorSliceDataset shapes: ((2,), ()), types: (tf.float64, tf.int32)>\n",
            "<TensorSliceDataset shapes: ((2,), ()), types: (tf.float64, tf.int32)>\n",
            "<TensorSliceDataset shapes: ((2,), ()), types: (tf.float64, tf.int32)>\n",
            "<TensorSliceDataset shapes: ((2,), ()), types: (tf.float64, tf.int32)>\n",
            "<TensorSliceDataset shapes: ((2,), ()), types: (tf.float64, tf.int32)>\n",
            "<TensorSliceDataset shapes: ((2,), ()), types: (tf.float64, tf.int32)>\n",
            "<TensorSliceDataset shapes: ((2,), ()), types: (tf.float64, tf.int32)>\n",
            "<TensorSliceDataset shapes: ((2,), ()), types: (tf.float64, tf.int32)>\n",
            "<TensorSliceDataset shapes: ((2,), ()), types: (tf.float64, tf.int32)>\n",
            "<TensorSliceDataset shapes: ((2,), ()), types: (tf.float64, tf.int32)>\n",
            "<TensorSliceDataset shapes: ((2,), ()), types: (tf.float64, tf.int32)>\n",
            "<TensorSliceDataset shapes: ((2,), ()), types: (tf.float64, tf.int32)>\n",
            "<TensorSliceDataset shapes: ((2,), ()), types: (tf.float64, tf.int32)>\n",
            "<TensorSliceDataset shapes: ((2,), ()), types: (tf.float64, tf.int32)>\n",
            "<TensorSliceDataset shapes: ((2,), ()), types: (tf.float64, tf.int32)>\n",
            "<TensorSliceDataset shapes: ((2,), ()), types: (tf.float64, tf.int32)>\n",
            "<TensorSliceDataset shapes: ((2,), ()), types: (tf.float64, tf.int32)>\n",
            "<TensorSliceDataset shapes: ((2,), ()), types: (tf.float64, tf.int32)>\n",
            "<TensorSliceDataset shapes: ((2,), ()), types: (tf.float64, tf.int32)>\n",
            "<TensorSliceDataset shapes: ((2,), ()), types: (tf.float64, tf.int32)>\n",
            "<TensorSliceDataset shapes: ((2,), ()), types: (tf.float64, tf.int32)>\n",
            "<TensorSliceDataset shapes: ((2,), ()), types: (tf.float64, tf.int32)>\n",
            "<TensorSliceDataset shapes: ((2,), ()), types: (tf.float64, tf.int32)>\n",
            "<TensorSliceDataset shapes: ((2,), ()), types: (tf.float64, tf.int32)>\n",
            "<TensorSliceDataset shapes: ((2,), ()), types: (tf.float64, tf.int32)>\n",
            "<TensorSliceDataset shapes: ((2,), ()), types: (tf.float64, tf.int32)>\n",
            "<TensorSliceDataset shapes: ((2,), ()), types: (tf.float64, tf.int32)>\n",
            "<TensorSliceDataset shapes: ((2,), ()), types: (tf.float64, tf.int32)>\n",
            "<TensorSliceDataset shapes: ((2,), ()), types: (tf.float64, tf.int32)>\n",
            "<TensorSliceDataset shapes: ((2,), ()), types: (tf.float64, tf.int32)>\n",
            "<TensorSliceDataset shapes: ((2,), ()), types: (tf.float64, tf.int32)>\n",
            "<TensorSliceDataset shapes: ((2,), ()), types: (tf.float64, tf.int32)>\n",
            "<TensorSliceDataset shapes: ((2,), ()), types: (tf.float64, tf.int32)>\n",
            "<TensorSliceDataset shapes: ((2,), ()), types: (tf.float64, tf.int32)>\n",
            "<TensorSliceDataset shapes: ((2,), ()), types: (tf.float64, tf.int32)>\n",
            "<TensorSliceDataset shapes: ((2,), ()), types: (tf.float64, tf.int32)>\n",
            "<TensorSliceDataset shapes: ((2,), ()), types: (tf.float64, tf.int32)>\n",
            "<TensorSliceDataset shapes: ((2,), ()), types: (tf.float64, tf.int32)>\n",
            "<TensorSliceDataset shapes: ((2,), ()), types: (tf.float64, tf.int32)>\n",
            "<TensorSliceDataset shapes: ((2,), ()), types: (tf.float64, tf.int32)>\n",
            "<TensorSliceDataset shapes: ((2,), ()), types: (tf.float64, tf.int32)>\n",
            "<TensorSliceDataset shapes: ((2,), ()), types: (tf.float64, tf.int32)>\n",
            "<TensorSliceDataset shapes: ((2,), ()), types: (tf.float64, tf.int32)>\n",
            "<TensorSliceDataset shapes: ((2,), ()), types: (tf.float64, tf.int32)>\n",
            "<TensorSliceDataset shapes: ((2,), ()), types: (tf.float64, tf.int32)>\n",
            "<TensorSliceDataset shapes: ((2,), ()), types: (tf.float64, tf.int32)>\n",
            "<TensorSliceDataset shapes: ((2,), ()), types: (tf.float64, tf.int32)>\n",
            "<TensorSliceDataset shapes: ((2,), ()), types: (tf.float64, tf.int32)>\n",
            "<TensorSliceDataset shapes: ((2,), ()), types: (tf.float64, tf.int32)>\n",
            "<TensorSliceDataset shapes: ((2,), ()), types: (tf.float64, tf.int32)>\n",
            "<TensorSliceDataset shapes: ((2,), ()), types: (tf.float64, tf.int32)>\n",
            "<TensorSliceDataset shapes: ((2,), ()), types: (tf.float64, tf.int32)>\n",
            "<TensorSliceDataset shapes: ((2,), ()), types: (tf.float64, tf.int32)>\n",
            "[<PrefetchDataset shapes: OrderedDict([(x, (None, 1, 2)), (y, (None, 1))]), types: OrderedDict([(x, tf.float64), (y, tf.int32)])>]\n",
            "OrderedDict([('sparse_categorical_accuracy', 0.104415), ('loss', 2.7338605)])\n",
            "OrderedDict([('sparse_categorical_accuracy', 0.121713), ('loss', 2.7042425)])\n",
            "OrderedDict([('sparse_categorical_accuracy', 0.133168), ('loss', 2.668085)])\n"
          ],
          "name": "stdout"
        }
      ]
    }
  ]
}