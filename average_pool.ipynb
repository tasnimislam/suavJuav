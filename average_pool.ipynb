{
  "nbformat": 4,
  "nbformat_minor": 0,
  "metadata": {
    "accelerator": "GPU",
    "colab": {
      "name": "average_pool.ipynb",
      "provenance": [],
      "collapsed_sections": []
    },
    "kernelspec": {
      "display_name": "Python 3",
      "name": "python3"
    },
    "language_info": {
      "name": "python"
    }
  },
  "cells": [
    {
      "cell_type": "code",
      "metadata": {
        "colab": {
          "base_uri": "https://localhost:8080/"
        },
        "id": "6swepXoTiJad",
        "outputId": "ed12343d-95ac-43d6-8ad0-ffaf7fd6aee3"
      },
      "source": [
        "from google.colab import drive\n",
        "drive.mount('/content/drive')"
      ],
      "execution_count": 1,
      "outputs": [
        {
          "output_type": "stream",
          "text": [
            "Drive already mounted at /content/drive; to attempt to forcibly remount, call drive.mount(\"/content/drive\", force_remount=True).\n"
          ],
          "name": "stdout"
        }
      ]
    },
    {
      "cell_type": "code",
      "metadata": {
        "colab": {
          "base_uri": "https://localhost:8080/"
        },
        "id": "4X9CEvVjpjBT",
        "outputId": "ae9094f7-f502-4afc-dd97-ab5a3ec58b32"
      },
      "source": [
        "!pip install tensorflow-federated"
      ],
      "execution_count": 2,
      "outputs": [
        {
          "output_type": "stream",
          "text": [
            "Requirement already satisfied: tensorflow-federated in /usr/local/lib/python3.7/dist-packages (0.19.0)\n",
            "Requirement already satisfied: tensorflow-privacy~=0.5.0 in /usr/local/lib/python3.7/dist-packages (from tensorflow-federated) (0.5.2)\n",
            "Requirement already satisfied: tensorflow-model-optimization~=0.5.0 in /usr/local/lib/python3.7/dist-packages (from tensorflow-federated) (0.5.0)\n",
            "Requirement already satisfied: retrying~=1.3.3 in /usr/local/lib/python3.7/dist-packages (from tensorflow-federated) (1.3.3)\n",
            "Requirement already satisfied: portpicker~=1.3.1 in /usr/local/lib/python3.7/dist-packages (from tensorflow-federated) (1.3.9)\n",
            "Requirement already satisfied: tqdm~=4.28.1 in /usr/local/lib/python3.7/dist-packages (from tensorflow-federated) (4.28.1)\n",
            "Requirement already satisfied: dm-tree~=0.1.1 in /usr/local/lib/python3.7/dist-packages (from tensorflow-federated) (0.1.6)\n",
            "Requirement already satisfied: jaxlib~=0.1.55 in /usr/local/lib/python3.7/dist-packages (from tensorflow-federated) (0.1.69+cuda110)\n",
            "Requirement already satisfied: jax~=0.2.8 in /usr/local/lib/python3.7/dist-packages (from tensorflow-federated) (0.2.17)\n",
            "Requirement already satisfied: numpy~=1.19.2 in /usr/local/lib/python3.7/dist-packages (from tensorflow-federated) (1.19.5)\n",
            "Requirement already satisfied: absl-py~=0.10 in /usr/local/lib/python3.7/dist-packages (from tensorflow-federated) (0.12.0)\n",
            "Requirement already satisfied: semantic-version~=2.8.5 in /usr/local/lib/python3.7/dist-packages (from tensorflow-federated) (2.8.5)\n",
            "Requirement already satisfied: tensorflow~=2.5.0 in /usr/local/lib/python3.7/dist-packages (from tensorflow-federated) (2.5.0)\n",
            "Requirement already satisfied: grpcio~=1.34.0 in /usr/local/lib/python3.7/dist-packages (from tensorflow-federated) (1.34.1)\n",
            "Requirement already satisfied: attrs~=19.3.0 in /usr/local/lib/python3.7/dist-packages (from tensorflow-federated) (19.3.0)\n",
            "Requirement already satisfied: cachetools~=3.1.1 in /usr/local/lib/python3.7/dist-packages (from tensorflow-federated) (3.1.1)\n",
            "Requirement already satisfied: six in /usr/local/lib/python3.7/dist-packages (from absl-py~=0.10->tensorflow-federated) (1.15.0)\n",
            "Requirement already satisfied: opt-einsum in /usr/local/lib/python3.7/dist-packages (from jax~=0.2.8->tensorflow-federated) (3.3.0)\n",
            "Requirement already satisfied: scipy in /usr/local/lib/python3.7/dist-packages (from jaxlib~=0.1.55->tensorflow-federated) (1.4.1)\n",
            "Requirement already satisfied: flatbuffers<3.0,>=1.12 in /usr/local/lib/python3.7/dist-packages (from jaxlib~=0.1.55->tensorflow-federated) (1.12)\n",
            "Requirement already satisfied: keras-preprocessing~=1.1.2 in /usr/local/lib/python3.7/dist-packages (from tensorflow~=2.5.0->tensorflow-federated) (1.1.2)\n",
            "Requirement already satisfied: google-pasta~=0.2 in /usr/local/lib/python3.7/dist-packages (from tensorflow~=2.5.0->tensorflow-federated) (0.2.0)\n",
            "Requirement already satisfied: typing-extensions~=3.7.4 in /usr/local/lib/python3.7/dist-packages (from tensorflow~=2.5.0->tensorflow-federated) (3.7.4.3)\n",
            "Requirement already satisfied: wrapt~=1.12.1 in /usr/local/lib/python3.7/dist-packages (from tensorflow~=2.5.0->tensorflow-federated) (1.12.1)\n",
            "Requirement already satisfied: gast==0.4.0 in /usr/local/lib/python3.7/dist-packages (from tensorflow~=2.5.0->tensorflow-federated) (0.4.0)\n",
            "Requirement already satisfied: tensorflow-estimator<2.6.0,>=2.5.0rc0 in /usr/local/lib/python3.7/dist-packages (from tensorflow~=2.5.0->tensorflow-federated) (2.5.0)\n",
            "Requirement already satisfied: termcolor~=1.1.0 in /usr/local/lib/python3.7/dist-packages (from tensorflow~=2.5.0->tensorflow-federated) (1.1.0)\n",
            "Requirement already satisfied: protobuf>=3.9.2 in /usr/local/lib/python3.7/dist-packages (from tensorflow~=2.5.0->tensorflow-federated) (3.17.3)\n",
            "Requirement already satisfied: tensorboard~=2.5 in /usr/local/lib/python3.7/dist-packages (from tensorflow~=2.5.0->tensorflow-federated) (2.5.0)\n",
            "Requirement already satisfied: h5py~=3.1.0 in /usr/local/lib/python3.7/dist-packages (from tensorflow~=2.5.0->tensorflow-federated) (3.1.0)\n",
            "Requirement already satisfied: astunparse~=1.6.3 in /usr/local/lib/python3.7/dist-packages (from tensorflow~=2.5.0->tensorflow-federated) (1.6.3)\n",
            "Requirement already satisfied: wheel~=0.35 in /usr/local/lib/python3.7/dist-packages (from tensorflow~=2.5.0->tensorflow-federated) (0.37.0)\n",
            "Requirement already satisfied: keras-nightly~=2.5.0.dev in /usr/local/lib/python3.7/dist-packages (from tensorflow~=2.5.0->tensorflow-federated) (2.5.0.dev2021032900)\n",
            "Requirement already satisfied: cached-property in /usr/local/lib/python3.7/dist-packages (from h5py~=3.1.0->tensorflow~=2.5.0->tensorflow-federated) (1.5.2)\n",
            "Requirement already satisfied: tensorboard-data-server<0.7.0,>=0.6.0 in /usr/local/lib/python3.7/dist-packages (from tensorboard~=2.5->tensorflow~=2.5.0->tensorflow-federated) (0.6.1)\n",
            "Requirement already satisfied: markdown>=2.6.8 in /usr/local/lib/python3.7/dist-packages (from tensorboard~=2.5->tensorflow~=2.5.0->tensorflow-federated) (3.3.4)\n",
            "Requirement already satisfied: tensorboard-plugin-wit>=1.6.0 in /usr/local/lib/python3.7/dist-packages (from tensorboard~=2.5->tensorflow~=2.5.0->tensorflow-federated) (1.8.0)\n",
            "Requirement already satisfied: google-auth<2,>=1.6.3 in /usr/local/lib/python3.7/dist-packages (from tensorboard~=2.5->tensorflow~=2.5.0->tensorflow-federated) (1.34.0)\n",
            "Requirement already satisfied: google-auth-oauthlib<0.5,>=0.4.1 in /usr/local/lib/python3.7/dist-packages (from tensorboard~=2.5->tensorflow~=2.5.0->tensorflow-federated) (0.4.5)\n",
            "Requirement already satisfied: setuptools>=41.0.0 in /usr/local/lib/python3.7/dist-packages (from tensorboard~=2.5->tensorflow~=2.5.0->tensorflow-federated) (57.2.0)\n",
            "Requirement already satisfied: werkzeug>=0.11.15 in /usr/local/lib/python3.7/dist-packages (from tensorboard~=2.5->tensorflow~=2.5.0->tensorflow-federated) (1.0.1)\n",
            "Requirement already satisfied: requests<3,>=2.21.0 in /usr/local/lib/python3.7/dist-packages (from tensorboard~=2.5->tensorflow~=2.5.0->tensorflow-federated) (2.23.0)\n",
            "Requirement already satisfied: pyasn1-modules>=0.2.1 in /usr/local/lib/python3.7/dist-packages (from google-auth<2,>=1.6.3->tensorboard~=2.5->tensorflow~=2.5.0->tensorflow-federated) (0.2.8)\n",
            "Requirement already satisfied: rsa<5,>=3.1.4 in /usr/local/lib/python3.7/dist-packages (from google-auth<2,>=1.6.3->tensorboard~=2.5->tensorflow~=2.5.0->tensorflow-federated) (4.7.2)\n",
            "Requirement already satisfied: requests-oauthlib>=0.7.0 in /usr/local/lib/python3.7/dist-packages (from google-auth-oauthlib<0.5,>=0.4.1->tensorboard~=2.5->tensorflow~=2.5.0->tensorflow-federated) (1.3.0)\n",
            "Requirement already satisfied: importlib-metadata in /usr/local/lib/python3.7/dist-packages (from markdown>=2.6.8->tensorboard~=2.5->tensorflow~=2.5.0->tensorflow-federated) (4.6.3)\n",
            "Requirement already satisfied: pyasn1<0.5.0,>=0.4.6 in /usr/local/lib/python3.7/dist-packages (from pyasn1-modules>=0.2.1->google-auth<2,>=1.6.3->tensorboard~=2.5->tensorflow~=2.5.0->tensorflow-federated) (0.4.8)\n",
            "Requirement already satisfied: idna<3,>=2.5 in /usr/local/lib/python3.7/dist-packages (from requests<3,>=2.21.0->tensorboard~=2.5->tensorflow~=2.5.0->tensorflow-federated) (2.10)\n",
            "Requirement already satisfied: chardet<4,>=3.0.2 in /usr/local/lib/python3.7/dist-packages (from requests<3,>=2.21.0->tensorboard~=2.5->tensorflow~=2.5.0->tensorflow-federated) (3.0.4)\n",
            "Requirement already satisfied: certifi>=2017.4.17 in /usr/local/lib/python3.7/dist-packages (from requests<3,>=2.21.0->tensorboard~=2.5->tensorflow~=2.5.0->tensorflow-federated) (2021.5.30)\n",
            "Requirement already satisfied: urllib3!=1.25.0,!=1.25.1,<1.26,>=1.21.1 in /usr/local/lib/python3.7/dist-packages (from requests<3,>=2.21.0->tensorboard~=2.5->tensorflow~=2.5.0->tensorflow-federated) (1.24.3)\n",
            "Requirement already satisfied: oauthlib>=3.0.0 in /usr/local/lib/python3.7/dist-packages (from requests-oauthlib>=0.7.0->google-auth-oauthlib<0.5,>=0.4.1->tensorboard~=2.5->tensorflow~=2.5.0->tensorflow-federated) (3.1.1)\n",
            "Requirement already satisfied: mpmath in /usr/local/lib/python3.7/dist-packages (from tensorflow-privacy~=0.5.0->tensorflow-federated) (1.2.1)\n",
            "Requirement already satisfied: zipp>=0.5 in /usr/local/lib/python3.7/dist-packages (from importlib-metadata->markdown>=2.6.8->tensorboard~=2.5->tensorflow~=2.5.0->tensorflow-federated) (3.5.0)\n"
          ],
          "name": "stdout"
        }
      ]
    },
    {
      "cell_type": "code",
      "metadata": {
        "id": "KLTdNN_-i1UM"
      },
      "source": [
        "import os\n",
        "import collections\n",
        "import numpy as np\n",
        "import scipy.io as sio\n",
        "import tensorflow as tf\n",
        "import tensorflow_federated as tff\n",
        "import matplotlib.pyplot as plt\n",
        "from keras import backend as K \n",
        "from keras.layers import Layer\n",
        "from keras.layers import Dense, TimeDistributed, Lambda, Input\n",
        "\n",
        "################################ Functions ################################\n",
        "\n",
        "def dc_compensation(z):\n",
        "    \"\"\"\n",
        "    Function to estimate and remove DC impairments in the IQ branch\n",
        "    Parameters:\n",
        "    z: DC impaired signal sequence (numpy format)\n",
        "    Returns:\n",
        "    v: DC removed signal sequence\n",
        "    \"\"\"\n",
        "    iDCest=np.mean(z[:, 0]) # estimated DC on I branch\n",
        "    qDCest=np.mean(z[:, 1]) # estimated DC on I branch\n",
        "    v=z-(iDCest+1j*qDCest) # remove estimated DCs\n",
        "    return v\n",
        "\n",
        "def blind_iq_compensation(z):\n",
        "    \"\"\"\n",
        "    Function to estimate and compensate IQ impairments for the\n",
        "    single-branch IQ impairment model\n",
        "    Parameters:\n",
        "    z: DC impaired signal sequence (numpy format)\n",
        "    Returns:\n",
        "    y: IQ imbalance compensated signal sequence\n",
        "    \"\"\"\n",
        "    I=z[:, 0];Q=z[:, 1]\n",
        "    theta1=(-1)*np.mean(np.sign(I)*Q)\n",
        "    theta2=np.mean(abs(I)); theta3=np.mean(abs(Q))\n",
        "    c1=theta1/theta2\n",
        "    c2=np.sqrt((theta3**2-theta1**2)/theta2**2)\n",
        "    x_u2 = I +1j*(c1*I+Q)/c2\n",
        "    return x_u2\n",
        "\n",
        "\n",
        "def usergen(x, y, iid, N0):\n",
        "    if iid==True:\n",
        "        sigma = 1 # i.i.d. user fading \n",
        "    else:\n",
        "        sigma = np.random.uniform(low=0.5, high=1.5, size=None) #non-i.i.d. user fading\n",
        "        \n",
        "    h = np.random.rayleigh(scale=sigma, size=(x.shape[0],1))\n",
        "    hIQ=np.concatenate((h,h),axis=1)\n",
        "    x_u = np.multiply(hIQ,x)+ np.random.normal(0, np.sqrt(N0)/2, x.shape) # Channel-distorted noisy features\n",
        "    y_u = np.real(y) # Labels\n",
        "    # print(y_u)\n",
        "    # y_u = np.interp(y_u, (y_u.min(), y_u.max()), (0, 1))\n",
        "    D_u = tf.data.Dataset.from_tensor_slices((list(x_u),list(y_u.astype(int))))\n",
        "\n",
        "    return D_u\n",
        "\n",
        "\n",
        "def testgen(x, y, iid, N0):\n",
        "    if iid==True:\n",
        "        h = np.random.rayleigh(scale=1, size=(x.shape[0],1)) # i.i.d. test fading \n",
        "    else:\n",
        "        h = np.random.rayleigh(scale=np.random.uniform(low=0.5, high=1.5, size=(x.shape[0],1)), size=(x.shape[0],1)) # non-i.i.d. user fading\n",
        "    hIQ = np.concatenate((h,h),axis=1)\n",
        "    x_test = np.multiply(hIQ,x) + np.random.normal(0, np.sqrt(N0)/2, x.shape) # Channel-distorted noisy features\n",
        "    y_test = np.real(y) # Labels\n",
        "    # print(y_test)\n",
        "    # y_test = np.interp(y_test, (y_test.min(), y_test.max()), (0, 1))\n",
        "\n",
        "    dataset_test = tf.data.Dataset.from_tensor_slices((list(x_test),list(y_test.astype(int))))\n",
        "    \n",
        "    return dataset_test\n",
        "\n",
        "\n",
        "def preprocess(dataset):\n",
        "    U = 5 # Number of wireless users taking part in federated training\n",
        "    EPOCH = 5 # Number of local epochs for each aggragation round\n",
        "    AGGREGATION_ROUND = 5 # Number of federated aggregation rounds\n",
        "    BATCH_SIZE = 1000 \n",
        "    SHUFFLE_BUFFER = 20\n",
        "    PREFETCH_BUFFER = 10\n",
        "    def batch_format_fn(element1,element2):\n",
        "        return collections.OrderedDict(\n",
        "            x=tf.reshape(element1, [-1, 1, 2]),\n",
        "            y=tf.reshape(element2, [-1, 1]))\n",
        "    return dataset.repeat(EPOCH).shuffle(SHUFFLE_BUFFER).batch(\n",
        "        BATCH_SIZE).map(batch_format_fn).prefetch(PREFETCH_BUFFER)"
      ],
      "execution_count": 3,
      "outputs": []
    },
    {
      "cell_type": "code",
      "metadata": {
        "id": "7CS4yBvEmTzg"
      },
      "source": [
        "def create_keras_model():\n",
        "    Q = 4 \n",
        "    M = 2**Q # 16QAM modulation\n",
        "    Es = 10 # Average symbol energy\n",
        "    model = tf.keras.models.Sequential()\n",
        "    model.add(tf.keras.layers.Input(shape=(1, 2)))\n",
        "    model.add(tf.keras.layers.AveragePooling1D(pool_size = 2, padding = 'same'))\n",
        "    model.add(tf.keras.layers.Dense(M, activation=tf.keras.activations.softmax))\n",
        "    return model"
      ],
      "execution_count": 4,
      "outputs": []
    },
    {
      "cell_type": "code",
      "metadata": {
        "id": "Zc5goxQ4mEIg"
      },
      "source": [
        "def model_fn():\n",
        "  keras_model = create_keras_model()\n",
        "  return tff.learning.from_keras_model(\n",
        "      keras_model,\n",
        "      input_spec=preprocessed_example_dataset.element_spec,\n",
        "      loss=tf.keras.losses.SparseCategoricalCrossentropy(),\n",
        "      metrics=[tf.keras.metrics.SparseCategoricalAccuracy()])\n"
      ],
      "execution_count": 5,
      "outputs": []
    },
    {
      "cell_type": "code",
      "metadata": {
        "colab": {
          "base_uri": "https://localhost:8080/"
        },
        "id": "u_9R4E9g2jt4",
        "outputId": "384ca03d-6a41-4aaa-c5b3-93752f086217"
      },
      "source": [
        "%cd \"/content/drive/MyDrive/Tasnim_BUET/11 august/fedrec_moderation\"\n",
        "def train(user_g, snr_g, iid_g):\n",
        "    os.environ[\"CUDA_VISIBLE_DEVICES\"] = \"0\"\n",
        "\n",
        "    MC = 10 # Number of Monte Carlo trials\n",
        "    iid = iid_g # set to False to simulate non-iid user fading \n",
        "\n",
        "    ### Modulation Parameters\n",
        "    Q = 4 \n",
        "    M = 2**Q # 16QAM modulation\n",
        "    Es = 10 # Average symbol energy\n",
        "\n",
        "    ### Noise Parameters\n",
        "    EbN0_dB = snr_g # SNR per bit (dB)\n",
        "    EsN0_dB = EbN0_dB + 10*np.log10(Q) # SNR per symbol (dB)\n",
        "    N0 = Es/10**(EsN0_dB/10)\n",
        "\n",
        "    ### FedRec Training Parameters\n",
        "    U = user_g # Number of wireless users taking part in federated training\n",
        "    EPOCH = 5 # Number of local epochs for each aggragation round\n",
        "    AGGREGATION_ROUND = 5 # Number of federated aggregation rounds\n",
        "    BATCH_SIZE = 1000 \n",
        "    SHUFFLE_BUFFER = 20\n",
        "    PREFETCH_BUFFER = 10\n",
        "\n",
        "    ### Load QAM I/Q Symbols\n",
        "    TRAIN = sio.loadmat('TRAIN_fedrec.mat')\n",
        "    Train = TRAIN['TRAIN']\n",
        "    TEST = sio.loadmat('TEST_fedrec.mat')\n",
        "    Test = TEST['TEST']\n",
        "\n",
        "\n",
        "    ### Generate Real-valued Train/Test Features/Labels\n",
        "    N_T = int(Train.shape[0]/U) # Size of local user datasets \n",
        "    x_train = np.zeros((N_T,2))\n",
        "    x_train[:,0] = np.real(Train[0:N_T,0])\n",
        "    x_train[:,1] = np.imag(Train[0:N_T,0])\n",
        "    y_train = Train[0:N_T,1]-1\n",
        "\n",
        "    x_test = np.zeros((Test.shape[0],2))\n",
        "    x_test[:,0] = np.real(Test[:,0])\n",
        "    x_test[:,1] = np.imag(Test[:,0])\n",
        "    y_test = Test[:,1]-1\n",
        "\n",
        "\n",
        "    example_dataset = usergen(x_train, y_train, iid, N0)\n",
        "    # print(f\"uplink dataset: U_U: {len(example_dataset)}\")\n",
        "    preprocessed_example_dataset=preprocess(example_dataset)\n",
        "    example_element = next(iter((preprocessed_example_dataset)))\n",
        "\n",
        "    def model_fn():\n",
        "        keras_model = create_keras_model()\n",
        "        return tff.learning.from_keras_model(\n",
        "            keras_model,\n",
        "            input_spec=preprocessed_example_dataset.element_spec,\n",
        "            loss=tf.keras.losses.SparseCategoricalCrossentropy(),\n",
        "            metrics=[tf.keras.metrics.SparseCategoricalAccuracy()])\n",
        "\n",
        "\n",
        "    iterative_process = tff.learning.build_federated_averaging_process(\n",
        "        model_fn,\n",
        "        client_optimizer_fn=lambda: tf.keras.optimizers.Adam(learning_rate=0.05),\n",
        "        server_optimizer_fn=lambda: tf.keras.optimizers.SGD(learning_rate=1.0))\n",
        "\n",
        "    evaluation = tff.learning.build_federated_evaluation(model_fn)\n",
        "    print(evaluation)\n",
        "\n",
        "\n",
        "    BER = 0\n",
        "    for i in range(MC):\n",
        "        \n",
        "        print('##############################')\n",
        "        print('Monte Carlo Trial # ', i+1)\n",
        "        \n",
        "        ### Generate Federated User Datasets\n",
        "        federated_train_data=[]\n",
        "        for u in range(U):\n",
        "            D_u = usergen(x_train, y_train, iid, N0) ### Generate Local Dataset at user u\n",
        "            # print(f\"downlink dataset: D_U: {len(D_u)}\")\n",
        "            federated_train_data.append(preprocess(D_u))\n",
        "            print(D_u)\n",
        "                \n",
        "        ### Generate Test Dataset\n",
        "        test_dataset = testgen(x_test, y_test, iid, N0)\n",
        "        federated_test_data=[preprocess(test_dataset)]\n",
        "        print(federated_test_data)\n",
        "        \n",
        "        ### Federated Training\n",
        "        state = iterative_process.initialize()\n",
        "        for n in range(AGGREGATION_ROUND):\n",
        "            state, metrics = iterative_process.next(state, federated_train_data)\n",
        "            # print(str(metrics))\n",
        "            \n",
        "            ### Evaluate the Model\n",
        "            test_metrics = evaluation(state.model, federated_test_data)\n",
        "            print(str(test_metrics))\n",
        "        \n",
        "        BER = BER + (1-test_metrics['sparse_categorical_accuracy'])/(Q*MC)\n",
        "\n",
        "        \n",
        "    print('##############################')\n",
        "    print('16QAM at Eb/N0=', EbN0_dB, 'dB')\n",
        "    print('FedRec trained collaboratively by ', U, 'users')\n",
        "    if iid==True:\n",
        "            iidstr = 'iid' \n",
        "    else:\n",
        "            iidstr = 'non-iid'\n",
        "    print(iidstr, ' Rayleigh fading')\n",
        "    print('BER= ', BER)\n",
        "\n",
        "    return BER"
      ],
      "execution_count": 6,
      "outputs": [
        {
          "output_type": "stream",
          "text": [
            "/content/drive/MyDrive/Tasnim_BUET/11 august/fedrec_moderation\n"
          ],
          "name": "stdout"
        }
      ]
    },
    {
      "cell_type": "code",
      "metadata": {
        "colab": {
          "base_uri": "https://localhost:8080/"
        },
        "id": "RjQtG8kt4qJ8",
        "outputId": "7f2ee64f-6be2-4e9d-db96-5752a65748c1"
      },
      "source": [
        "!pip install nest_asyncio\n",
        "import nest_asyncio\n",
        "nest_asyncio.apply()"
      ],
      "execution_count": 7,
      "outputs": [
        {
          "output_type": "stream",
          "text": [
            "Requirement already satisfied: nest_asyncio in /usr/local/lib/python3.7/dist-packages (1.5.1)\n"
          ],
          "name": "stdout"
        }
      ]
    },
    {
      "cell_type": "code",
      "metadata": {
        "id": "Jd8gnJN9mJK2",
        "colab": {
          "base_uri": "https://localhost:8080/"
        },
        "outputId": "2d19420e-ad15-4fdd-af5b-fdb08eb2835e"
      },
      "source": [
        "def main():\n",
        "    ber = []\n",
        "    iid = False\n",
        "    dataset_setup = 'average_pool'\n",
        "    %cd \"/content/drive/MyDrive/Tasnim_BUET/11 august/fedrec_moderation\"\n",
        "    for i in [1, 5, 10, 100, 1000]:\n",
        "      print(i)\n",
        "      x = train(i, 5, iid)\n",
        "      ber.append(x)\n",
        "      with open(f'user_change_{iid}_dataset_setup_{dataset_setup}_5db.txt', 'a+') as f:\n",
        "        f.write(str(x) + '\\n')\n",
        "    with open(f'user_change_{iid}_dataset_setup_{dataset_setup}_5db.txt', 'a+') as f:\n",
        "        f.write(str(ber) + '\\n')\n",
        "main()"
      ],
      "execution_count": null,
      "outputs": [
        {
          "output_type": "stream",
          "text": [
            "/content/drive/MyDrive/Tasnim_BUET/11 august/fedrec_moderation\n",
            "1\n",
            "WARNING:tensorflow:Please add `keras.layers.InputLayer` instead of `keras.Input` to Sequential model. `keras.Input` is intended to be used by Functional model.\n",
            "WARNING:tensorflow:Please add `keras.layers.InputLayer` instead of `keras.Input` to Sequential model. `keras.Input` is intended to be used by Functional model.\n",
            "WARNING:tensorflow:Please add `keras.layers.InputLayer` instead of `keras.Input` to Sequential model. `keras.Input` is intended to be used by Functional model.\n",
            "WARNING:tensorflow:Please add `keras.layers.InputLayer` instead of `keras.Input` to Sequential model. `keras.Input` is intended to be used by Functional model.\n",
            "WARNING:tensorflow:Please add `keras.layers.InputLayer` instead of `keras.Input` to Sequential model. `keras.Input` is intended to be used by Functional model.\n",
            "WARNING:tensorflow:Please add `keras.layers.InputLayer` instead of `keras.Input` to Sequential model. `keras.Input` is intended to be used by Functional model.\n",
            "<tensorflow_federated.python.core.impl.computation.computation_impl.ComputationImpl object at 0x7fc5905f7d90>\n",
            "##############################\n",
            "Monte Carlo Trial #  1\n",
            "<TensorSliceDataset shapes: ((2,), ()), types: (tf.float64, tf.int32)>\n",
            "[<PrefetchDataset shapes: OrderedDict([(x, (None, 1, 2)), (y, (None, 1))]), types: OrderedDict([(x, tf.float64), (y, tf.int32)])>]\n",
            "WARNING:tensorflow:From /usr/local/lib/python3.7/dist-packages/tensorflow_federated/python/core/impl/compiler/tensorflow_computation_transformations.py:60: extract_sub_graph (from tensorflow.python.framework.graph_util_impl) is deprecated and will be removed in a future version.\n",
            "Instructions for updating:\n",
            "Use `tf.compat.v1.graph_util.extract_sub_graph`\n"
          ],
          "name": "stdout"
        },
        {
          "output_type": "stream",
          "text": [
            "WARNING:tensorflow:From /usr/local/lib/python3.7/dist-packages/tensorflow_federated/python/core/impl/compiler/tensorflow_computation_transformations.py:60: extract_sub_graph (from tensorflow.python.framework.graph_util_impl) is deprecated and will be removed in a future version.\n",
            "Instructions for updating:\n",
            "Use `tf.compat.v1.graph_util.extract_sub_graph`\n"
          ],
          "name": "stderr"
        },
        {
          "output_type": "stream",
          "text": [
            "OrderedDict([('sparse_categorical_accuracy', 0.672763), ('loss', 1.128331)])\n"
          ],
          "name": "stdout"
        }
      ]
    }
  ]
}